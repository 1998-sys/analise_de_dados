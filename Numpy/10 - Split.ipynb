{
 "cells": [
  {
   "cell_type": "code",
   "execution_count": 1,
   "metadata": {},
   "outputs": [],
   "source": [
    "import numpy as np"
   ]
  },
  {
   "cell_type": "code",
   "execution_count": 2,
   "metadata": {},
   "outputs": [
    {
     "data": {
      "text/plain": [
       "array([1, 2, 3, 4, 5, 6])"
      ]
     },
     "execution_count": 2,
     "metadata": {},
     "output_type": "execute_result"
    }
   ],
   "source": [
    "array = np.array([1,2,3,4,5,6])\n",
    "array"
   ]
  },
  {
   "cell_type": "code",
   "execution_count": 3,
   "metadata": {},
   "outputs": [
    {
     "data": {
      "text/plain": [
       "[array([1, 2]), array([3, 4]), array([5, 6])]"
      ]
     },
     "execution_count": 3,
     "metadata": {},
     "output_type": "execute_result"
    }
   ],
   "source": [
    "arrays_divididos = np.split(array,3)\n",
    "arrays_divididos"
   ]
  },
  {
   "cell_type": "code",
   "execution_count": 4,
   "metadata": {},
   "outputs": [
    {
     "name": "stdout",
     "output_type": "stream",
     "text": [
      "Parte 1 -> [1 2]\n",
      "Parte 2 -> [3 4]\n",
      "Parte 3 -> [5 6]\n"
     ]
    }
   ],
   "source": [
    "for  i, value in enumerate(arrays_divididos):\n",
    "    print(f'Parte {i+1} -> {value}')"
   ]
  },
  {
   "cell_type": "code",
   "execution_count": 6,
   "metadata": {},
   "outputs": [
    {
     "data": {
      "text/plain": [
       "array([28, 24, 33, 31, 23, 32, 23, 39, 28, 38, 29, 28, 24, 20, 22, 38, 27,\n",
       "       37, 36, 26, 39, 23, 21, 38, 33, 22, 35, 24, 34, 22], dtype=int32)"
      ]
     },
     "execution_count": 6,
     "metadata": {},
     "output_type": "execute_result"
    }
   ],
   "source": [
    "# Criando um array 1D com temperaturas diárias de um mês (30) dias\n",
    "temperaturas = np.random.randint(20,40,30)\n",
    "temperaturas"
   ]
  },
  {
   "cell_type": "code",
   "execution_count": 11,
   "metadata": {},
   "outputs": [
    {
     "data": {
      "text/plain": [
       "[array([28, 24, 33, 31, 23, 32, 23, 39, 28, 38], dtype=int32),\n",
       " array([29, 28, 24, 20, 22, 38, 27, 37, 36, 26], dtype=int32),\n",
       " array([39, 23, 21, 38, 33, 22, 35, 24, 34, 22], dtype=int32)]"
      ]
     },
     "execution_count": 11,
     "metadata": {},
     "output_type": "execute_result"
    }
   ],
   "source": [
    "# Dividindo as temperaturas em 3 semanas\n",
    "semanas = np.split(temperaturas, 3)\n",
    "semanas"
   ]
  },
  {
   "cell_type": "code",
   "execution_count": 12,
   "metadata": {},
   "outputs": [
    {
     "name": "stdout",
     "output_type": "stream",
     "text": [
      "Semana 1 -> [28 24 33 31 23 32 23 39 28 38]\n",
      "Semana 2 -> [29 28 24 20 22 38 27 37 36 26]\n",
      "Semana 3 -> [39 23 21 38 33 22 35 24 34 22]\n"
     ]
    }
   ],
   "source": [
    "for i, value in enumerate(semanas):\n",
    "    print(f'Semana {i+1} -> {value}')"
   ]
  },
  {
   "cell_type": "code",
   "execution_count": null,
   "metadata": {},
   "outputs": [
    {
     "data": {
      "text/plain": [
       "[np.float64(29.9), np.float64(28.7), np.float64(29.1)]"
      ]
     },
     "execution_count": 15,
     "metadata": {},
     "output_type": "execute_result"
    }
   ],
   "source": [
    "media_semanas = [np.mean(semana) for semana in semanas]\n"
   ]
  },
  {
   "cell_type": "code",
   "execution_count": 16,
   "metadata": {},
   "outputs": [
    {
     "name": "stdout",
     "output_type": "stream",
     "text": [
      "Média da semana 1 -> 29.90°C\n",
      "Média da semana 2 -> 28.70°C\n",
      "Média da semana 3 -> 29.10°C\n"
     ]
    }
   ],
   "source": [
    "for i, value in enumerate(media_semanas):\n",
    "    print(f'Média da semana {i+1} -> {value:.2f}°C')"
   ]
  }
 ],
 "metadata": {
  "kernelspec": {
   "display_name": "venv",
   "language": "python",
   "name": "python3"
  },
  "language_info": {
   "codemirror_mode": {
    "name": "ipython",
    "version": 3
   },
   "file_extension": ".py",
   "mimetype": "text/x-python",
   "name": "python",
   "nbconvert_exporter": "python",
   "pygments_lexer": "ipython3",
   "version": "3.12.4"
  }
 },
 "nbformat": 4,
 "nbformat_minor": 2
}

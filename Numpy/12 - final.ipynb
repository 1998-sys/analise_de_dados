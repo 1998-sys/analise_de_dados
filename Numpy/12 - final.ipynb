{
 "cells": [
  {
   "cell_type": "markdown",
   "metadata": {
    "vscode": {
     "languageId": "plaintext"
    }
   },
   "source": [
    "# Consolidando conhecimentos"
   ]
  },
  {
   "cell_type": "code",
   "execution_count": 2,
   "metadata": {},
   "outputs": [],
   "source": [
    "import numpy as np"
   ]
  },
  {
   "cell_type": "code",
   "execution_count": 3,
   "metadata": {},
   "outputs": [],
   "source": [
    "# 1 - Criando os dados\n",
    "nomes = np.array(['ALine', 'Bob', 'Charlie', 'David','Eva'])\n",
    "notas_matematica = np.array([55,67,72,48,90])\n",
    "notas_fisica = np.array([88,76,95,64,70])"
   ]
  },
  {
   "cell_type": "code",
   "execution_count": 5,
   "metadata": {},
   "outputs": [
    {
     "data": {
      "text/plain": [
       "array([71.5, 71.5, 83.5, 56. , 80. ])"
      ]
     },
     "execution_count": 5,
     "metadata": {},
     "output_type": "execute_result"
    }
   ],
   "source": [
    "# Calculando média das notas\n",
    "media = np.mean(np.column_stack((notas_matematica, notas_fisica)), axis=1)\n",
    "media"
   ]
  },
  {
   "cell_type": "code",
   "execution_count": 6,
   "metadata": {},
   "outputs": [
    {
     "data": {
      "text/plain": [
       "(array([0, 1, 2, 4]),)"
      ]
     },
     "execution_count": 6,
     "metadata": {},
     "output_type": "execute_result"
    }
   ],
   "source": [
    "# 3 identificando alunos aprovados\n",
    "alunos_aprovados = np.where(media > 60)\n",
    "alunos_aprovados"
   ]
  },
  {
   "cell_type": "code",
   "execution_count": 11,
   "metadata": {},
   "outputs": [
    {
     "name": "stdout",
     "output_type": "stream",
     "text": [
      "[['ALine' '55' '88' '71.5']\n",
      " ['Bob' '67' '76' '71.5']\n",
      " ['Charlie' '72' '95' '83.5']\n",
      " ['David' '48' '64' '56.0']\n",
      " ['Eva' '90' '70' '80.0']]\n",
      "O array contém 2 dimensões\n",
      "(5, 4)\n"
     ]
    }
   ],
   "source": [
    "# Organizando os dados em uma tabela\n",
    "dados_tabela = np.column_stack([nomes, notas_matematica, notas_fisica, media])\n",
    "print(dados_tabela)\n",
    "print(f'O array contém {dados_tabela.ndim} dimensões')\n",
    "print(f'{dados_tabela.shape}')"
   ]
  },
  {
   "cell_type": "code",
   "execution_count": 12,
   "metadata": {},
   "outputs": [
    {
     "name": "stdout",
     "output_type": "stream",
     "text": [
      "ALine - Média: 71.50\n",
      "Bob - Média: 71.50\n",
      "Charlie - Média: 83.50\n",
      "Eva - Média: 80.00\n"
     ]
    }
   ],
   "source": [
    "# Exibindo alunos aprovados\n",
    "for i in alunos_aprovados[0]:\n",
    "    print(f'{dados_tabela[i][0]} - Média: {media[i]:.2f}')"
   ]
  },
  {
   "cell_type": "code",
   "execution_count": 13,
   "metadata": {},
   "outputs": [
    {
     "name": "stdout",
     "output_type": "stream",
     "text": [
      "Grupo 1: ['ALine' 'Bob']\n",
      "Grupo 2: ['Charlie' 'David']\n",
      "Grupo 3: ['Eva']\n"
     ]
    }
   ],
   "source": [
    "# 6 - Dividindo alunos em grupos\n",
    "grupos = np.array_split(nomes,3)\n",
    "for i, value in enumerate(grupos):\n",
    "    print(f'Grupo {i+1}: {value}')"
   ]
  },
  {
   "cell_type": "code",
   "execution_count": null,
   "metadata": {},
   "outputs": [],
   "source": []
  }
 ],
 "metadata": {
  "kernelspec": {
   "display_name": "venv",
   "language": "python",
   "name": "python3"
  },
  "language_info": {
   "codemirror_mode": {
    "name": "ipython",
    "version": 3
   },
   "file_extension": ".py",
   "mimetype": "text/x-python",
   "name": "python",
   "nbconvert_exporter": "python",
   "pygments_lexer": "ipython3",
   "version": "3.12.4"
  }
 },
 "nbformat": 4,
 "nbformat_minor": 2
}

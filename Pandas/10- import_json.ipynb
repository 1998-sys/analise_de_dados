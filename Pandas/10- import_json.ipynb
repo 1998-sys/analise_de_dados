{
 "cells": [
  {
   "cell_type": "markdown",
   "metadata": {
    "vscode": {
     "languageId": "plaintext"
    }
   },
   "source": [
    "## importando Json"
   ]
  },
  {
   "cell_type": "code",
   "execution_count": 1,
   "metadata": {},
   "outputs": [],
   "source": [
    "import pandas as pd"
   ]
  },
  {
   "cell_type": "code",
   "execution_count": 10,
   "metadata": {},
   "outputs": [
    {
     "data": {
      "application/vnd.microsoft.datawrangler.viewer.v0+json": {
       "columns": [
        {
         "name": "index",
         "rawType": "int64",
         "type": "integer"
        },
        {
         "name": "receitas",
         "rawType": "object",
         "type": "unknown"
        }
       ],
       "conversionMethod": "pd.DataFrame",
       "ref": "5d16d71d-a92d-4788-a123-86e27e761884",
       "rows": [
        [
         "0",
         "{'titulo': 'Bolo de chocolate', 'tempo_preparo': '45 minutos', 'porcoes': 8, 'ingredientes': [{'ingrediente': 'Farinha de trigo', 'quantidade': '2 xicaras'}, {'ingrediente': 'Açúcar', 'quantidade': '1 xícara'}, {'ingrediente': 'Ovos', 'quantidade': '3 xícaras'}, {'ingrediente': 'Leite', 'quantidade': '1 xícara'}, {'ingrediente': 'Manteiga', 'quantidade': '1/2 xícaras'}]}"
        ],
        [
         "1",
         "{'titulo': 'Salada Caesar', 'tempo_preparo': '20 minutos', 'porcoes': 4, 'ingredientes': [{'ingrediente': 'Alface romana', 'quantidade': '1 cabeça'}, {'ingrediente': 'Croutons', 'quantidade': '1 xícara'}, {'ingrediente': 'Queijo Parmesão', 'quantidade': '1/2 xícara'}, {'ingrediente': 'Molho Caesar', 'quantidade': '1/4 xícara'}]}"
        ]
       ],
       "shape": {
        "columns": 1,
        "rows": 2
       }
      },
      "text/html": [
       "<div>\n",
       "<style scoped>\n",
       "    .dataframe tbody tr th:only-of-type {\n",
       "        vertical-align: middle;\n",
       "    }\n",
       "\n",
       "    .dataframe tbody tr th {\n",
       "        vertical-align: top;\n",
       "    }\n",
       "\n",
       "    .dataframe thead th {\n",
       "        text-align: right;\n",
       "    }\n",
       "</style>\n",
       "<table border=\"1\" class=\"dataframe\">\n",
       "  <thead>\n",
       "    <tr style=\"text-align: right;\">\n",
       "      <th></th>\n",
       "      <th>receitas</th>\n",
       "    </tr>\n",
       "  </thead>\n",
       "  <tbody>\n",
       "    <tr>\n",
       "      <th>0</th>\n",
       "      <td>{'titulo': 'Bolo de chocolate', 'tempo_preparo...</td>\n",
       "    </tr>\n",
       "    <tr>\n",
       "      <th>1</th>\n",
       "      <td>{'titulo': 'Salada Caesar', 'tempo_preparo': '...</td>\n",
       "    </tr>\n",
       "  </tbody>\n",
       "</table>\n",
       "</div>"
      ],
      "text/plain": [
       "                                            receitas\n",
       "0  {'titulo': 'Bolo de chocolate', 'tempo_preparo...\n",
       "1  {'titulo': 'Salada Caesar', 'tempo_preparo': '..."
      ]
     },
     "execution_count": 10,
     "metadata": {},
     "output_type": "execute_result"
    }
   ],
   "source": [
    "# Se carregar direto pode ser que o arquivo Json não seja carregado com a divisão correta no dataframe\n",
    "df = pd.read_json('../Dados/receitas.json', encoding='utf-8')\n",
    "df"
   ]
  },
  {
   "cell_type": "code",
   "execution_count": 11,
   "metadata": {},
   "outputs": [],
   "source": [
    "# Ajustando o carregamento\n",
    "df_receitas = pd.json_normalize(df['receitas'], \n",
    "                                'ingredientes',\n",
    "                                ['titulo', 'tempo_preparo', 'porcoes'])"
   ]
  },
  {
   "cell_type": "code",
   "execution_count": 12,
   "metadata": {},
   "outputs": [
    {
     "data": {
      "application/vnd.microsoft.datawrangler.viewer.v0+json": {
       "columns": [
        {
         "name": "index",
         "rawType": "int64",
         "type": "integer"
        },
        {
         "name": "ingrediente",
         "rawType": "object",
         "type": "string"
        },
        {
         "name": "quantidade",
         "rawType": "object",
         "type": "string"
        },
        {
         "name": "titulo",
         "rawType": "object",
         "type": "string"
        },
        {
         "name": "tempo_preparo",
         "rawType": "object",
         "type": "string"
        },
        {
         "name": "porcoes",
         "rawType": "object",
         "type": "unknown"
        }
       ],
       "conversionMethod": "pd.DataFrame",
       "ref": "d1f70f27-f8a7-475d-bc74-f4b8652141ac",
       "rows": [
        [
         "0",
         "Farinha de trigo",
         "2 xicaras",
         "Bolo de chocolate",
         "45 minutos",
         "8"
        ],
        [
         "1",
         "Açúcar",
         "1 xícara",
         "Bolo de chocolate",
         "45 minutos",
         "8"
        ],
        [
         "2",
         "Ovos",
         "3 xícaras",
         "Bolo de chocolate",
         "45 minutos",
         "8"
        ],
        [
         "3",
         "Leite",
         "1 xícara",
         "Bolo de chocolate",
         "45 minutos",
         "8"
        ],
        [
         "4",
         "Manteiga",
         "1/2 xícaras",
         "Bolo de chocolate",
         "45 minutos",
         "8"
        ],
        [
         "5",
         "Alface romana",
         "1 cabeça",
         "Salada Caesar",
         "20 minutos",
         "4"
        ],
        [
         "6",
         "Croutons",
         "1 xícara",
         "Salada Caesar",
         "20 minutos",
         "4"
        ],
        [
         "7",
         "Queijo Parmesão",
         "1/2 xícara",
         "Salada Caesar",
         "20 minutos",
         "4"
        ],
        [
         "8",
         "Molho Caesar",
         "1/4 xícara",
         "Salada Caesar",
         "20 minutos",
         "4"
        ]
       ],
       "shape": {
        "columns": 5,
        "rows": 9
       }
      },
      "text/html": [
       "<div>\n",
       "<style scoped>\n",
       "    .dataframe tbody tr th:only-of-type {\n",
       "        vertical-align: middle;\n",
       "    }\n",
       "\n",
       "    .dataframe tbody tr th {\n",
       "        vertical-align: top;\n",
       "    }\n",
       "\n",
       "    .dataframe thead th {\n",
       "        text-align: right;\n",
       "    }\n",
       "</style>\n",
       "<table border=\"1\" class=\"dataframe\">\n",
       "  <thead>\n",
       "    <tr style=\"text-align: right;\">\n",
       "      <th></th>\n",
       "      <th>ingrediente</th>\n",
       "      <th>quantidade</th>\n",
       "      <th>titulo</th>\n",
       "      <th>tempo_preparo</th>\n",
       "      <th>porcoes</th>\n",
       "    </tr>\n",
       "  </thead>\n",
       "  <tbody>\n",
       "    <tr>\n",
       "      <th>0</th>\n",
       "      <td>Farinha de trigo</td>\n",
       "      <td>2 xicaras</td>\n",
       "      <td>Bolo de chocolate</td>\n",
       "      <td>45 minutos</td>\n",
       "      <td>8</td>\n",
       "    </tr>\n",
       "    <tr>\n",
       "      <th>1</th>\n",
       "      <td>Açúcar</td>\n",
       "      <td>1 xícara</td>\n",
       "      <td>Bolo de chocolate</td>\n",
       "      <td>45 minutos</td>\n",
       "      <td>8</td>\n",
       "    </tr>\n",
       "    <tr>\n",
       "      <th>2</th>\n",
       "      <td>Ovos</td>\n",
       "      <td>3 xícaras</td>\n",
       "      <td>Bolo de chocolate</td>\n",
       "      <td>45 minutos</td>\n",
       "      <td>8</td>\n",
       "    </tr>\n",
       "    <tr>\n",
       "      <th>3</th>\n",
       "      <td>Leite</td>\n",
       "      <td>1 xícara</td>\n",
       "      <td>Bolo de chocolate</td>\n",
       "      <td>45 minutos</td>\n",
       "      <td>8</td>\n",
       "    </tr>\n",
       "    <tr>\n",
       "      <th>4</th>\n",
       "      <td>Manteiga</td>\n",
       "      <td>1/2 xícaras</td>\n",
       "      <td>Bolo de chocolate</td>\n",
       "      <td>45 minutos</td>\n",
       "      <td>8</td>\n",
       "    </tr>\n",
       "    <tr>\n",
       "      <th>5</th>\n",
       "      <td>Alface romana</td>\n",
       "      <td>1 cabeça</td>\n",
       "      <td>Salada Caesar</td>\n",
       "      <td>20 minutos</td>\n",
       "      <td>4</td>\n",
       "    </tr>\n",
       "    <tr>\n",
       "      <th>6</th>\n",
       "      <td>Croutons</td>\n",
       "      <td>1 xícara</td>\n",
       "      <td>Salada Caesar</td>\n",
       "      <td>20 minutos</td>\n",
       "      <td>4</td>\n",
       "    </tr>\n",
       "    <tr>\n",
       "      <th>7</th>\n",
       "      <td>Queijo Parmesão</td>\n",
       "      <td>1/2 xícara</td>\n",
       "      <td>Salada Caesar</td>\n",
       "      <td>20 minutos</td>\n",
       "      <td>4</td>\n",
       "    </tr>\n",
       "    <tr>\n",
       "      <th>8</th>\n",
       "      <td>Molho Caesar</td>\n",
       "      <td>1/4 xícara</td>\n",
       "      <td>Salada Caesar</td>\n",
       "      <td>20 minutos</td>\n",
       "      <td>4</td>\n",
       "    </tr>\n",
       "  </tbody>\n",
       "</table>\n",
       "</div>"
      ],
      "text/plain": [
       "        ingrediente   quantidade             titulo tempo_preparo porcoes\n",
       "0  Farinha de trigo    2 xicaras  Bolo de chocolate    45 minutos       8\n",
       "1            Açúcar     1 xícara  Bolo de chocolate    45 minutos       8\n",
       "2              Ovos    3 xícaras  Bolo de chocolate    45 minutos       8\n",
       "3             Leite     1 xícara  Bolo de chocolate    45 minutos       8\n",
       "4          Manteiga  1/2 xícaras  Bolo de chocolate    45 minutos       8\n",
       "5     Alface romana     1 cabeça      Salada Caesar    20 minutos       4\n",
       "6          Croutons     1 xícara      Salada Caesar    20 minutos       4\n",
       "7   Queijo Parmesão   1/2 xícara      Salada Caesar    20 minutos       4\n",
       "8      Molho Caesar   1/4 xícara      Salada Caesar    20 minutos       4"
      ]
     },
     "execution_count": 12,
     "metadata": {},
     "output_type": "execute_result"
    }
   ],
   "source": [
    "df_receitas"
   ]
  }
 ],
 "metadata": {
  "kernelspec": {
   "display_name": "venv",
   "language": "python",
   "name": "python3"
  },
  "language_info": {
   "codemirror_mode": {
    "name": "ipython",
    "version": 3
   },
   "file_extension": ".py",
   "mimetype": "text/x-python",
   "name": "python",
   "nbconvert_exporter": "python",
   "pygments_lexer": "ipython3",
   "version": "3.12.4"
  }
 },
 "nbformat": 4,
 "nbformat_minor": 2
}

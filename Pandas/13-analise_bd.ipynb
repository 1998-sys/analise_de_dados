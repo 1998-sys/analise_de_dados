{
 "cells": [
  {
   "cell_type": "code",
   "execution_count": 5,
   "metadata": {},
   "outputs": [],
   "source": [
    "import pandas as pd\n",
    "from sqlalchemy import create_engine"
   ]
  },
  {
   "cell_type": "code",
   "execution_count": 2,
   "metadata": {},
   "outputs": [],
   "source": [
    "# Conectando ao banco de dados\n",
    "engine = create_engine('sqlite:///../Dados/ecommerce.db')"
   ]
  },
  {
   "cell_type": "code",
   "execution_count": 3,
   "metadata": {},
   "outputs": [
    {
     "name": "stdout",
     "output_type": "stream",
     "text": [
      "Conectado com sucesso\n"
     ]
    }
   ],
   "source": [
    "# Testando conexão do banco de dados\n",
    "with engine.connect() as connection:\n",
    "    print('Conectado com sucesso')"
   ]
  },
  {
   "cell_type": "code",
   "execution_count": 6,
   "metadata": {},
   "outputs": [
    {
     "data": {
      "application/vnd.microsoft.datawrangler.viewer.v0+json": {
       "columns": [
        {
         "name": "index",
         "rawType": "int64",
         "type": "integer"
        },
        {
         "name": "Categoria",
         "rawType": "object",
         "type": "string"
        },
        {
         "name": "Total_QTD_Vendida",
         "rawType": "int64",
         "type": "integer"
        }
       ],
       "conversionMethod": "pd.DataFrame",
       "ref": "5bd1f775-acb3-4356-ad81-3c807d58ccf6",
       "rows": [
        [
         "0",
         "Acessórios",
         "81"
        ],
        [
         "1",
         "Calçados",
         "46"
        ],
        [
         "2",
         "Roupas",
         "163"
        ]
       ],
       "shape": {
        "columns": 2,
        "rows": 3
       }
      },
      "text/html": [
       "<div>\n",
       "<style scoped>\n",
       "    .dataframe tbody tr th:only-of-type {\n",
       "        vertical-align: middle;\n",
       "    }\n",
       "\n",
       "    .dataframe tbody tr th {\n",
       "        vertical-align: top;\n",
       "    }\n",
       "\n",
       "    .dataframe thead th {\n",
       "        text-align: right;\n",
       "    }\n",
       "</style>\n",
       "<table border=\"1\" class=\"dataframe\">\n",
       "  <thead>\n",
       "    <tr style=\"text-align: right;\">\n",
       "      <th></th>\n",
       "      <th>Categoria</th>\n",
       "      <th>Total_QTD_Vendida</th>\n",
       "    </tr>\n",
       "  </thead>\n",
       "  <tbody>\n",
       "    <tr>\n",
       "      <th>0</th>\n",
       "      <td>Acessórios</td>\n",
       "      <td>81</td>\n",
       "    </tr>\n",
       "    <tr>\n",
       "      <th>1</th>\n",
       "      <td>Calçados</td>\n",
       "      <td>46</td>\n",
       "    </tr>\n",
       "    <tr>\n",
       "      <th>2</th>\n",
       "      <td>Roupas</td>\n",
       "      <td>163</td>\n",
       "    </tr>\n",
       "  </tbody>\n",
       "</table>\n",
       "</div>"
      ],
      "text/plain": [
       "    Categoria  Total_QTD_Vendida\n",
       "0  Acessórios                 81\n",
       "1    Calçados                 46\n",
       "2      Roupas                163"
      ]
     },
     "execution_count": 6,
     "metadata": {},
     "output_type": "execute_result"
    }
   ],
   "source": [
    "# 1 - Total de vendas por categoria\n",
    "consulta_1 = 'SELECT Categoria, sum(Quantidade) AS Total_QTD_Vendida FROM produtos GROUP BY Categoria'\n",
    "resultado_1 = pd.read_sql_query(consulta_1, engine)\n",
    "resultado_1"
   ]
  },
  {
   "cell_type": "code",
   "execution_count": 8,
   "metadata": {},
   "outputs": [
    {
     "data": {
      "application/vnd.microsoft.datawrangler.viewer.v0+json": {
       "columns": [
        {
         "name": "index",
         "rawType": "int64",
         "type": "integer"
        },
        {
         "name": "Produto",
         "rawType": "object",
         "type": "string"
        },
        {
         "name": "Total_Qtd_Vendida",
         "rawType": "int64",
         "type": "integer"
        }
       ],
       "conversionMethod": "pd.DataFrame",
       "ref": "1bf54202-923d-4eff-8444-757c1ea6a304",
       "rows": [
        [
         "0",
         "Camiseta",
         "30"
        ]
       ],
       "shape": {
        "columns": 2,
        "rows": 1
       }
      },
      "text/html": [
       "<div>\n",
       "<style scoped>\n",
       "    .dataframe tbody tr th:only-of-type {\n",
       "        vertical-align: middle;\n",
       "    }\n",
       "\n",
       "    .dataframe tbody tr th {\n",
       "        vertical-align: top;\n",
       "    }\n",
       "\n",
       "    .dataframe thead th {\n",
       "        text-align: right;\n",
       "    }\n",
       "</style>\n",
       "<table border=\"1\" class=\"dataframe\">\n",
       "  <thead>\n",
       "    <tr style=\"text-align: right;\">\n",
       "      <th></th>\n",
       "      <th>Produto</th>\n",
       "      <th>Total_Qtd_Vendida</th>\n",
       "    </tr>\n",
       "  </thead>\n",
       "  <tbody>\n",
       "    <tr>\n",
       "      <th>0</th>\n",
       "      <td>Camiseta</td>\n",
       "      <td>30</td>\n",
       "    </tr>\n",
       "  </tbody>\n",
       "</table>\n",
       "</div>"
      ],
      "text/plain": [
       "    Produto  Total_Qtd_Vendida\n",
       "0  Camiseta                 30"
      ]
     },
     "execution_count": 8,
     "metadata": {},
     "output_type": "execute_result"
    }
   ],
   "source": [
    "# Produto com mais vendas\n",
    "consulta_2 = 'SELECT Produto, SUM(Quantidade) AS Total_Qtd_Vendida FROM produtos GROUP BY Produto ORDER BY Total_Qtd_Vendida DESC LIMIT 1'\n",
    "resultado_2 = pd.read_sql_query(consulta_2, engine)\n",
    "resultado_2"
   ]
  },
  {
   "cell_type": "code",
   "execution_count": 13,
   "metadata": {},
   "outputs": [
    {
     "data": {
      "application/vnd.microsoft.datawrangler.viewer.v0+json": {
       "columns": [
        {
         "name": "index",
         "rawType": "int64",
         "type": "integer"
        },
        {
         "name": "Produto",
         "rawType": "object",
         "type": "string"
        },
        {
         "name": "Total_Qtd_Vendida",
         "rawType": "int64",
         "type": "integer"
        }
       ],
       "conversionMethod": "pd.DataFrame",
       "ref": "0d805f00-abea-4df8-baf5-9e5bfa10c506",
       "rows": [
        [
         "0",
         "Relógio",
         "4"
        ],
        [
         "1",
         "Jaqueta",
         "5"
        ],
        [
         "2",
         "Botas",
         "6"
        ],
        [
         "3",
         "Sapato",
         "7"
        ],
        [
         "4",
         "Tênis",
         "8"
        ],
        [
         "5",
         "Suéter",
         "9"
        ],
        [
         "6",
         "Camisa",
         "10"
        ],
        [
         "7",
         "Óculos",
         "10"
        ],
        [
         "8",
         "Saia longa",
         "11"
        ],
        [
         "9",
         "Vestido",
         "12"
        ],
        [
         "10",
         "Blusa",
         "14"
        ],
        [
         "11",
         "Calça",
         "15"
        ],
        [
         "12",
         "Mochila",
         "15"
        ],
        [
         "13",
         "Bermuda",
         "18"
        ],
        [
         "14",
         "Shorts",
         "19"
        ],
        [
         "15",
         "Saia",
         "20"
        ],
        [
         "16",
         "Cinto",
         "22"
        ],
        [
         "17",
         "Sandália",
         "25"
        ],
        [
         "18",
         "Brinco",
         "30"
        ],
        [
         "19",
         "Camiseta",
         "30"
        ]
       ],
       "shape": {
        "columns": 2,
        "rows": 20
       }
      },
      "text/html": [
       "<div>\n",
       "<style scoped>\n",
       "    .dataframe tbody tr th:only-of-type {\n",
       "        vertical-align: middle;\n",
       "    }\n",
       "\n",
       "    .dataframe tbody tr th {\n",
       "        vertical-align: top;\n",
       "    }\n",
       "\n",
       "    .dataframe thead th {\n",
       "        text-align: right;\n",
       "    }\n",
       "</style>\n",
       "<table border=\"1\" class=\"dataframe\">\n",
       "  <thead>\n",
       "    <tr style=\"text-align: right;\">\n",
       "      <th></th>\n",
       "      <th>Produto</th>\n",
       "      <th>Total_Qtd_Vendida</th>\n",
       "    </tr>\n",
       "  </thead>\n",
       "  <tbody>\n",
       "    <tr>\n",
       "      <th>0</th>\n",
       "      <td>Relógio</td>\n",
       "      <td>4</td>\n",
       "    </tr>\n",
       "    <tr>\n",
       "      <th>1</th>\n",
       "      <td>Jaqueta</td>\n",
       "      <td>5</td>\n",
       "    </tr>\n",
       "    <tr>\n",
       "      <th>2</th>\n",
       "      <td>Botas</td>\n",
       "      <td>6</td>\n",
       "    </tr>\n",
       "    <tr>\n",
       "      <th>3</th>\n",
       "      <td>Sapato</td>\n",
       "      <td>7</td>\n",
       "    </tr>\n",
       "    <tr>\n",
       "      <th>4</th>\n",
       "      <td>Tênis</td>\n",
       "      <td>8</td>\n",
       "    </tr>\n",
       "    <tr>\n",
       "      <th>5</th>\n",
       "      <td>Suéter</td>\n",
       "      <td>9</td>\n",
       "    </tr>\n",
       "    <tr>\n",
       "      <th>6</th>\n",
       "      <td>Camisa</td>\n",
       "      <td>10</td>\n",
       "    </tr>\n",
       "    <tr>\n",
       "      <th>7</th>\n",
       "      <td>Óculos</td>\n",
       "      <td>10</td>\n",
       "    </tr>\n",
       "    <tr>\n",
       "      <th>8</th>\n",
       "      <td>Saia longa</td>\n",
       "      <td>11</td>\n",
       "    </tr>\n",
       "    <tr>\n",
       "      <th>9</th>\n",
       "      <td>Vestido</td>\n",
       "      <td>12</td>\n",
       "    </tr>\n",
       "    <tr>\n",
       "      <th>10</th>\n",
       "      <td>Blusa</td>\n",
       "      <td>14</td>\n",
       "    </tr>\n",
       "    <tr>\n",
       "      <th>11</th>\n",
       "      <td>Calça</td>\n",
       "      <td>15</td>\n",
       "    </tr>\n",
       "    <tr>\n",
       "      <th>12</th>\n",
       "      <td>Mochila</td>\n",
       "      <td>15</td>\n",
       "    </tr>\n",
       "    <tr>\n",
       "      <th>13</th>\n",
       "      <td>Bermuda</td>\n",
       "      <td>18</td>\n",
       "    </tr>\n",
       "    <tr>\n",
       "      <th>14</th>\n",
       "      <td>Shorts</td>\n",
       "      <td>19</td>\n",
       "    </tr>\n",
       "    <tr>\n",
       "      <th>15</th>\n",
       "      <td>Saia</td>\n",
       "      <td>20</td>\n",
       "    </tr>\n",
       "    <tr>\n",
       "      <th>16</th>\n",
       "      <td>Cinto</td>\n",
       "      <td>22</td>\n",
       "    </tr>\n",
       "    <tr>\n",
       "      <th>17</th>\n",
       "      <td>Sandália</td>\n",
       "      <td>25</td>\n",
       "    </tr>\n",
       "    <tr>\n",
       "      <th>18</th>\n",
       "      <td>Brinco</td>\n",
       "      <td>30</td>\n",
       "    </tr>\n",
       "    <tr>\n",
       "      <th>19</th>\n",
       "      <td>Camiseta</td>\n",
       "      <td>30</td>\n",
       "    </tr>\n",
       "  </tbody>\n",
       "</table>\n",
       "</div>"
      ],
      "text/plain": [
       "       Produto  Total_Qtd_Vendida\n",
       "0      Relógio                  4\n",
       "1      Jaqueta                  5\n",
       "2        Botas                  6\n",
       "3       Sapato                  7\n",
       "4        Tênis                  8\n",
       "5       Suéter                  9\n",
       "6       Camisa                 10\n",
       "7       Óculos                 10\n",
       "8   Saia longa                 11\n",
       "9      Vestido                 12\n",
       "10       Blusa                 14\n",
       "11       Calça                 15\n",
       "12     Mochila                 15\n",
       "13     Bermuda                 18\n",
       "14      Shorts                 19\n",
       "15        Saia                 20\n",
       "16       Cinto                 22\n",
       "17    Sandália                 25\n",
       "18      Brinco                 30\n",
       "19    Camiseta                 30"
      ]
     },
     "execution_count": 13,
     "metadata": {},
     "output_type": "execute_result"
    }
   ],
   "source": [
    "# Total de vendas por produto\n",
    "consulta_3 = 'SELECT Produto, SUM(Quantidade) as Total_Qtd_Vendida FROM produtos GROUP BY Produto ORDER BY Total_Qtd_vendida'\n",
    "resultado_3 = pd.read_sql_query(consulta_3, engine)\n",
    "resultado_3"
   ]
  },
  {
   "cell_type": "code",
   "execution_count": 15,
   "metadata": {},
   "outputs": [
    {
     "data": {
      "application/vnd.microsoft.datawrangler.viewer.v0+json": {
       "columns": [
        {
         "name": "index",
         "rawType": "int64",
         "type": "integer"
        },
        {
         "name": "Produto",
         "rawType": "object",
         "type": "string"
        },
        {
         "name": "Media_Preco",
         "rawType": "float64",
         "type": "float"
        }
       ],
       "conversionMethod": "pd.DataFrame",
       "ref": "b52dd381-fddd-454d-908c-2833e5f48667",
       "rows": [
        [
         "0",
         "Bermuda",
         "60.0"
        ],
        [
         "1",
         "Blusa",
         "55.0"
        ],
        [
         "2",
         "Botas",
         "180.0"
        ],
        [
         "3",
         "Brinco",
         "35.0"
        ],
        [
         "4",
         "Calça",
         "100.0"
        ],
        [
         "5",
         "Camisa",
         "50.0"
        ],
        [
         "6",
         "Camiseta",
         "45.0"
        ],
        [
         "7",
         "Cinto",
         "40.0"
        ],
        [
         "8",
         "Jaqueta",
         "120.0"
        ],
        [
         "9",
         "Mochila",
         "70.0"
        ],
        [
         "10",
         "Relógio",
         "250.0"
        ],
        [
         "11",
         "Saia",
         "80.0"
        ],
        [
         "12",
         "Saia longa",
         "75.0"
        ],
        [
         "13",
         "Sandália",
         "70.0"
        ],
        [
         "14",
         "Sapato",
         "150.0"
        ],
        [
         "15",
         "Shorts",
         "65.0"
        ],
        [
         "16",
         "Suéter",
         "95.0"
        ],
        [
         "17",
         "Tênis",
         "200.0"
        ],
        [
         "18",
         "Vestido",
         "90.0"
        ],
        [
         "19",
         "Óculos",
         "120.0"
        ]
       ],
       "shape": {
        "columns": 2,
        "rows": 20
       }
      },
      "text/html": [
       "<div>\n",
       "<style scoped>\n",
       "    .dataframe tbody tr th:only-of-type {\n",
       "        vertical-align: middle;\n",
       "    }\n",
       "\n",
       "    .dataframe tbody tr th {\n",
       "        vertical-align: top;\n",
       "    }\n",
       "\n",
       "    .dataframe thead th {\n",
       "        text-align: right;\n",
       "    }\n",
       "</style>\n",
       "<table border=\"1\" class=\"dataframe\">\n",
       "  <thead>\n",
       "    <tr style=\"text-align: right;\">\n",
       "      <th></th>\n",
       "      <th>Produto</th>\n",
       "      <th>Media_Preco</th>\n",
       "    </tr>\n",
       "  </thead>\n",
       "  <tbody>\n",
       "    <tr>\n",
       "      <th>0</th>\n",
       "      <td>Bermuda</td>\n",
       "      <td>60.0</td>\n",
       "    </tr>\n",
       "    <tr>\n",
       "      <th>1</th>\n",
       "      <td>Blusa</td>\n",
       "      <td>55.0</td>\n",
       "    </tr>\n",
       "    <tr>\n",
       "      <th>2</th>\n",
       "      <td>Botas</td>\n",
       "      <td>180.0</td>\n",
       "    </tr>\n",
       "    <tr>\n",
       "      <th>3</th>\n",
       "      <td>Brinco</td>\n",
       "      <td>35.0</td>\n",
       "    </tr>\n",
       "    <tr>\n",
       "      <th>4</th>\n",
       "      <td>Calça</td>\n",
       "      <td>100.0</td>\n",
       "    </tr>\n",
       "    <tr>\n",
       "      <th>5</th>\n",
       "      <td>Camisa</td>\n",
       "      <td>50.0</td>\n",
       "    </tr>\n",
       "    <tr>\n",
       "      <th>6</th>\n",
       "      <td>Camiseta</td>\n",
       "      <td>45.0</td>\n",
       "    </tr>\n",
       "    <tr>\n",
       "      <th>7</th>\n",
       "      <td>Cinto</td>\n",
       "      <td>40.0</td>\n",
       "    </tr>\n",
       "    <tr>\n",
       "      <th>8</th>\n",
       "      <td>Jaqueta</td>\n",
       "      <td>120.0</td>\n",
       "    </tr>\n",
       "    <tr>\n",
       "      <th>9</th>\n",
       "      <td>Mochila</td>\n",
       "      <td>70.0</td>\n",
       "    </tr>\n",
       "    <tr>\n",
       "      <th>10</th>\n",
       "      <td>Relógio</td>\n",
       "      <td>250.0</td>\n",
       "    </tr>\n",
       "    <tr>\n",
       "      <th>11</th>\n",
       "      <td>Saia</td>\n",
       "      <td>80.0</td>\n",
       "    </tr>\n",
       "    <tr>\n",
       "      <th>12</th>\n",
       "      <td>Saia longa</td>\n",
       "      <td>75.0</td>\n",
       "    </tr>\n",
       "    <tr>\n",
       "      <th>13</th>\n",
       "      <td>Sandália</td>\n",
       "      <td>70.0</td>\n",
       "    </tr>\n",
       "    <tr>\n",
       "      <th>14</th>\n",
       "      <td>Sapato</td>\n",
       "      <td>150.0</td>\n",
       "    </tr>\n",
       "    <tr>\n",
       "      <th>15</th>\n",
       "      <td>Shorts</td>\n",
       "      <td>65.0</td>\n",
       "    </tr>\n",
       "    <tr>\n",
       "      <th>16</th>\n",
       "      <td>Suéter</td>\n",
       "      <td>95.0</td>\n",
       "    </tr>\n",
       "    <tr>\n",
       "      <th>17</th>\n",
       "      <td>Tênis</td>\n",
       "      <td>200.0</td>\n",
       "    </tr>\n",
       "    <tr>\n",
       "      <th>18</th>\n",
       "      <td>Vestido</td>\n",
       "      <td>90.0</td>\n",
       "    </tr>\n",
       "    <tr>\n",
       "      <th>19</th>\n",
       "      <td>Óculos</td>\n",
       "      <td>120.0</td>\n",
       "    </tr>\n",
       "  </tbody>\n",
       "</table>\n",
       "</div>"
      ],
      "text/plain": [
       "       Produto  Media_Preco\n",
       "0      Bermuda         60.0\n",
       "1        Blusa         55.0\n",
       "2        Botas        180.0\n",
       "3       Brinco         35.0\n",
       "4        Calça        100.0\n",
       "5       Camisa         50.0\n",
       "6     Camiseta         45.0\n",
       "7        Cinto         40.0\n",
       "8      Jaqueta        120.0\n",
       "9      Mochila         70.0\n",
       "10     Relógio        250.0\n",
       "11        Saia         80.0\n",
       "12  Saia longa         75.0\n",
       "13    Sandália         70.0\n",
       "14      Sapato        150.0\n",
       "15      Shorts         65.0\n",
       "16      Suéter         95.0\n",
       "17       Tênis        200.0\n",
       "18     Vestido         90.0\n",
       "19      Óculos        120.0"
      ]
     },
     "execution_count": 15,
     "metadata": {},
     "output_type": "execute_result"
    }
   ],
   "source": [
    "# 4 média de preço por produto\n",
    "consulta_4 = 'SELECT Produto, AVG(Preço) AS Media_Preco FROM produtos GROUP BY Produto'\n",
    "resultado_4 = pd.read_sql_query(consulta_4, engine)\n",
    "resultado_4"
   ]
  }
 ],
 "metadata": {
  "kernelspec": {
   "display_name": "venv",
   "language": "python",
   "name": "python3"
  },
  "language_info": {
   "codemirror_mode": {
    "name": "ipython",
    "version": 3
   },
   "file_extension": ".py",
   "mimetype": "text/x-python",
   "name": "python",
   "nbconvert_exporter": "python",
   "pygments_lexer": "ipython3",
   "version": "3.12.4"
  }
 },
 "nbformat": 4,
 "nbformat_minor": 2
}

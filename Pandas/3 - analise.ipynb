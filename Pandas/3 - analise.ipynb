{
 "cells": [
  {
   "cell_type": "markdown",
   "metadata": {
    "vscode": {
     "languageId": "plaintext"
    }
   },
   "source": [
    "# Analisando dataframe"
   ]
  },
  {
   "cell_type": "code",
   "execution_count": 3,
   "metadata": {},
   "outputs": [],
   "source": [
    "import pandas as pd"
   ]
  },
  {
   "cell_type": "code",
   "execution_count": 1,
   "metadata": {},
   "outputs": [],
   "source": [
    "dados_vendas = {\n",
    "    'Produto': ['Camisa','Calça','Saia','Camisa','Calça','Saia', 'Camiseta','Calça', 'Saia'],\n",
    "    'Preco': [50,100,80,55,110,85,45,95,90],\n",
    "    'Quantidade': [10,15,20,5,10,15,30,20,10],\n",
    "    'Mês': ['Jan', 'Jan', 'Jan', 'Fev', 'Fev', 'Fev', 'Mar', 'Mar', 'Mar']\n",
    "}"
   ]
  },
  {
   "cell_type": "code",
   "execution_count": 5,
   "metadata": {},
   "outputs": [
    {
     "data": {
      "application/vnd.microsoft.datawrangler.viewer.v0+json": {
       "columns": [
        {
         "name": "index",
         "rawType": "int64",
         "type": "integer"
        },
        {
         "name": "Produto",
         "rawType": "object",
         "type": "string"
        },
        {
         "name": "Preco",
         "rawType": "int64",
         "type": "integer"
        },
        {
         "name": "Quantidade",
         "rawType": "int64",
         "type": "integer"
        },
        {
         "name": "Mês",
         "rawType": "object",
         "type": "string"
        }
       ],
       "conversionMethod": "pd.DataFrame",
       "ref": "c9599aa2-1166-4c3e-b345-eb7e2d922cb4",
       "rows": [
        [
         "0",
         "Camisa",
         "50",
         "10",
         "Jan"
        ],
        [
         "1",
         "Calça",
         "100",
         "15",
         "Jan"
        ],
        [
         "2",
         "Saia",
         "80",
         "20",
         "Jan"
        ],
        [
         "3",
         "Camisa",
         "55",
         "5",
         "Fev"
        ],
        [
         "4",
         "Calça",
         "110",
         "10",
         "Fev"
        ],
        [
         "5",
         "Saia",
         "85",
         "15",
         "Fev"
        ],
        [
         "6",
         "Camiseta",
         "45",
         "30",
         "Mar"
        ],
        [
         "7",
         "Calça",
         "95",
         "20",
         "Mar"
        ],
        [
         "8",
         "Saia",
         "90",
         "10",
         "Mar"
        ]
       ],
       "shape": {
        "columns": 4,
        "rows": 9
       }
      },
      "text/html": [
       "<div>\n",
       "<style scoped>\n",
       "    .dataframe tbody tr th:only-of-type {\n",
       "        vertical-align: middle;\n",
       "    }\n",
       "\n",
       "    .dataframe tbody tr th {\n",
       "        vertical-align: top;\n",
       "    }\n",
       "\n",
       "    .dataframe thead th {\n",
       "        text-align: right;\n",
       "    }\n",
       "</style>\n",
       "<table border=\"1\" class=\"dataframe\">\n",
       "  <thead>\n",
       "    <tr style=\"text-align: right;\">\n",
       "      <th></th>\n",
       "      <th>Produto</th>\n",
       "      <th>Preco</th>\n",
       "      <th>Quantidade</th>\n",
       "      <th>Mês</th>\n",
       "    </tr>\n",
       "  </thead>\n",
       "  <tbody>\n",
       "    <tr>\n",
       "      <th>0</th>\n",
       "      <td>Camisa</td>\n",
       "      <td>50</td>\n",
       "      <td>10</td>\n",
       "      <td>Jan</td>\n",
       "    </tr>\n",
       "    <tr>\n",
       "      <th>1</th>\n",
       "      <td>Calça</td>\n",
       "      <td>100</td>\n",
       "      <td>15</td>\n",
       "      <td>Jan</td>\n",
       "    </tr>\n",
       "    <tr>\n",
       "      <th>2</th>\n",
       "      <td>Saia</td>\n",
       "      <td>80</td>\n",
       "      <td>20</td>\n",
       "      <td>Jan</td>\n",
       "    </tr>\n",
       "    <tr>\n",
       "      <th>3</th>\n",
       "      <td>Camisa</td>\n",
       "      <td>55</td>\n",
       "      <td>5</td>\n",
       "      <td>Fev</td>\n",
       "    </tr>\n",
       "    <tr>\n",
       "      <th>4</th>\n",
       "      <td>Calça</td>\n",
       "      <td>110</td>\n",
       "      <td>10</td>\n",
       "      <td>Fev</td>\n",
       "    </tr>\n",
       "    <tr>\n",
       "      <th>5</th>\n",
       "      <td>Saia</td>\n",
       "      <td>85</td>\n",
       "      <td>15</td>\n",
       "      <td>Fev</td>\n",
       "    </tr>\n",
       "    <tr>\n",
       "      <th>6</th>\n",
       "      <td>Camiseta</td>\n",
       "      <td>45</td>\n",
       "      <td>30</td>\n",
       "      <td>Mar</td>\n",
       "    </tr>\n",
       "    <tr>\n",
       "      <th>7</th>\n",
       "      <td>Calça</td>\n",
       "      <td>95</td>\n",
       "      <td>20</td>\n",
       "      <td>Mar</td>\n",
       "    </tr>\n",
       "    <tr>\n",
       "      <th>8</th>\n",
       "      <td>Saia</td>\n",
       "      <td>90</td>\n",
       "      <td>10</td>\n",
       "      <td>Mar</td>\n",
       "    </tr>\n",
       "  </tbody>\n",
       "</table>\n",
       "</div>"
      ],
      "text/plain": [
       "    Produto  Preco  Quantidade  Mês\n",
       "0    Camisa     50          10  Jan\n",
       "1     Calça    100          15  Jan\n",
       "2      Saia     80          20  Jan\n",
       "3    Camisa     55           5  Fev\n",
       "4     Calça    110          10  Fev\n",
       "5      Saia     85          15  Fev\n",
       "6  Camiseta     45          30  Mar\n",
       "7     Calça     95          20  Mar\n",
       "8      Saia     90          10  Mar"
      ]
     },
     "execution_count": 5,
     "metadata": {},
     "output_type": "execute_result"
    }
   ],
   "source": [
    "df_vendas = pd.DataFrame(dados_vendas)\n",
    "df_vendas"
   ]
  },
  {
   "cell_type": "code",
   "execution_count": 8,
   "metadata": {},
   "outputs": [
    {
     "data": {
      "application/vnd.microsoft.datawrangler.viewer.v0+json": {
       "columns": [
        {
         "name": "index",
         "rawType": "int64",
         "type": "integer"
        },
        {
         "name": "Produto",
         "rawType": "object",
         "type": "string"
        },
        {
         "name": "Preco",
         "rawType": "int64",
         "type": "integer"
        },
        {
         "name": "Quantidade",
         "rawType": "int64",
         "type": "integer"
        },
        {
         "name": "Mês",
         "rawType": "object",
         "type": "string"
        },
        {
         "name": "Receita",
         "rawType": "int64",
         "type": "integer"
        }
       ],
       "conversionMethod": "pd.DataFrame",
       "ref": "7d6b057d-ec53-4bf4-a1f1-3c1477cd01a5",
       "rows": [
        [
         "0",
         "Camisa",
         "50",
         "10",
         "Jan",
         "500"
        ],
        [
         "1",
         "Calça",
         "100",
         "15",
         "Jan",
         "1500"
        ],
        [
         "2",
         "Saia",
         "80",
         "20",
         "Jan",
         "1600"
        ],
        [
         "3",
         "Camisa",
         "55",
         "5",
         "Fev",
         "275"
        ],
        [
         "4",
         "Calça",
         "110",
         "10",
         "Fev",
         "1100"
        ],
        [
         "5",
         "Saia",
         "85",
         "15",
         "Fev",
         "1275"
        ],
        [
         "6",
         "Camiseta",
         "45",
         "30",
         "Mar",
         "1350"
        ],
        [
         "7",
         "Calça",
         "95",
         "20",
         "Mar",
         "1900"
        ],
        [
         "8",
         "Saia",
         "90",
         "10",
         "Mar",
         "900"
        ]
       ],
       "shape": {
        "columns": 5,
        "rows": 9
       }
      },
      "text/html": [
       "<div>\n",
       "<style scoped>\n",
       "    .dataframe tbody tr th:only-of-type {\n",
       "        vertical-align: middle;\n",
       "    }\n",
       "\n",
       "    .dataframe tbody tr th {\n",
       "        vertical-align: top;\n",
       "    }\n",
       "\n",
       "    .dataframe thead th {\n",
       "        text-align: right;\n",
       "    }\n",
       "</style>\n",
       "<table border=\"1\" class=\"dataframe\">\n",
       "  <thead>\n",
       "    <tr style=\"text-align: right;\">\n",
       "      <th></th>\n",
       "      <th>Produto</th>\n",
       "      <th>Preco</th>\n",
       "      <th>Quantidade</th>\n",
       "      <th>Mês</th>\n",
       "      <th>Receita</th>\n",
       "    </tr>\n",
       "  </thead>\n",
       "  <tbody>\n",
       "    <tr>\n",
       "      <th>0</th>\n",
       "      <td>Camisa</td>\n",
       "      <td>50</td>\n",
       "      <td>10</td>\n",
       "      <td>Jan</td>\n",
       "      <td>500</td>\n",
       "    </tr>\n",
       "    <tr>\n",
       "      <th>1</th>\n",
       "      <td>Calça</td>\n",
       "      <td>100</td>\n",
       "      <td>15</td>\n",
       "      <td>Jan</td>\n",
       "      <td>1500</td>\n",
       "    </tr>\n",
       "    <tr>\n",
       "      <th>2</th>\n",
       "      <td>Saia</td>\n",
       "      <td>80</td>\n",
       "      <td>20</td>\n",
       "      <td>Jan</td>\n",
       "      <td>1600</td>\n",
       "    </tr>\n",
       "    <tr>\n",
       "      <th>3</th>\n",
       "      <td>Camisa</td>\n",
       "      <td>55</td>\n",
       "      <td>5</td>\n",
       "      <td>Fev</td>\n",
       "      <td>275</td>\n",
       "    </tr>\n",
       "    <tr>\n",
       "      <th>4</th>\n",
       "      <td>Calça</td>\n",
       "      <td>110</td>\n",
       "      <td>10</td>\n",
       "      <td>Fev</td>\n",
       "      <td>1100</td>\n",
       "    </tr>\n",
       "    <tr>\n",
       "      <th>5</th>\n",
       "      <td>Saia</td>\n",
       "      <td>85</td>\n",
       "      <td>15</td>\n",
       "      <td>Fev</td>\n",
       "      <td>1275</td>\n",
       "    </tr>\n",
       "    <tr>\n",
       "      <th>6</th>\n",
       "      <td>Camiseta</td>\n",
       "      <td>45</td>\n",
       "      <td>30</td>\n",
       "      <td>Mar</td>\n",
       "      <td>1350</td>\n",
       "    </tr>\n",
       "    <tr>\n",
       "      <th>7</th>\n",
       "      <td>Calça</td>\n",
       "      <td>95</td>\n",
       "      <td>20</td>\n",
       "      <td>Mar</td>\n",
       "      <td>1900</td>\n",
       "    </tr>\n",
       "    <tr>\n",
       "      <th>8</th>\n",
       "      <td>Saia</td>\n",
       "      <td>90</td>\n",
       "      <td>10</td>\n",
       "      <td>Mar</td>\n",
       "      <td>900</td>\n",
       "    </tr>\n",
       "  </tbody>\n",
       "</table>\n",
       "</div>"
      ],
      "text/plain": [
       "    Produto  Preco  Quantidade  Mês  Receita\n",
       "0    Camisa     50          10  Jan      500\n",
       "1     Calça    100          15  Jan     1500\n",
       "2      Saia     80          20  Jan     1600\n",
       "3    Camisa     55           5  Fev      275\n",
       "4     Calça    110          10  Fev     1100\n",
       "5      Saia     85          15  Fev     1275\n",
       "6  Camiseta     45          30  Mar     1350\n",
       "7     Calça     95          20  Mar     1900\n",
       "8      Saia     90          10  Mar      900"
      ]
     },
     "execution_count": 8,
     "metadata": {},
     "output_type": "execute_result"
    }
   ],
   "source": [
    "# Calculando a receita total\n",
    "df_vendas['Receita'] = df_vendas['Preco'] * df_vendas['Quantidade']\n",
    "df_vendas"
   ]
  },
  {
   "cell_type": "code",
   "execution_count": 11,
   "metadata": {},
   "outputs": [
    {
     "data": {
      "text/plain": [
       "Produto\n",
       "Calça       4500\n",
       "Camisa       775\n",
       "Camiseta    1350\n",
       "Saia        3775\n",
       "Name: Receita, dtype: int64"
      ]
     },
     "execution_count": 11,
     "metadata": {},
     "output_type": "execute_result"
    }
   ],
   "source": [
    "# Sumarizando a receita total por produto \n",
    "# Groupby (pelo que quero agrupar, o que quero agruapar, e a função de agregação)\n",
    "resumo_vendas = df_vendas.groupby('Produto')['Receita'].sum()\n",
    "resumo_vendas"
   ]
  },
  {
   "cell_type": "code",
   "execution_count": 12,
   "metadata": {},
   "outputs": [
    {
     "data": {
      "application/vnd.microsoft.datawrangler.viewer.v0+json": {
       "columns": [
        {
         "name": "index",
         "rawType": "int64",
         "type": "integer"
        },
        {
         "name": "Produto",
         "rawType": "object",
         "type": "string"
        },
        {
         "name": "Preco",
         "rawType": "int64",
         "type": "integer"
        },
        {
         "name": "Quantidade",
         "rawType": "int64",
         "type": "integer"
        },
        {
         "name": "Mês",
         "rawType": "object",
         "type": "string"
        },
        {
         "name": "Receita",
         "rawType": "int64",
         "type": "integer"
        }
       ],
       "conversionMethod": "pd.DataFrame",
       "ref": "9eb0b4c5-f3eb-4065-813d-a065d4f60740",
       "rows": [
        [
         "1",
         "Calça",
         "100",
         "15",
         "Jan",
         "1500"
        ],
        [
         "2",
         "Saia",
         "80",
         "20",
         "Jan",
         "1600"
        ],
        [
         "4",
         "Calça",
         "110",
         "10",
         "Fev",
         "1100"
        ],
        [
         "5",
         "Saia",
         "85",
         "15",
         "Fev",
         "1275"
        ],
        [
         "6",
         "Camiseta",
         "45",
         "30",
         "Mar",
         "1350"
        ],
        [
         "7",
         "Calça",
         "95",
         "20",
         "Mar",
         "1900"
        ]
       ],
       "shape": {
        "columns": 5,
        "rows": 6
       }
      },
      "text/html": [
       "<div>\n",
       "<style scoped>\n",
       "    .dataframe tbody tr th:only-of-type {\n",
       "        vertical-align: middle;\n",
       "    }\n",
       "\n",
       "    .dataframe tbody tr th {\n",
       "        vertical-align: top;\n",
       "    }\n",
       "\n",
       "    .dataframe thead th {\n",
       "        text-align: right;\n",
       "    }\n",
       "</style>\n",
       "<table border=\"1\" class=\"dataframe\">\n",
       "  <thead>\n",
       "    <tr style=\"text-align: right;\">\n",
       "      <th></th>\n",
       "      <th>Produto</th>\n",
       "      <th>Preco</th>\n",
       "      <th>Quantidade</th>\n",
       "      <th>Mês</th>\n",
       "      <th>Receita</th>\n",
       "    </tr>\n",
       "  </thead>\n",
       "  <tbody>\n",
       "    <tr>\n",
       "      <th>1</th>\n",
       "      <td>Calça</td>\n",
       "      <td>100</td>\n",
       "      <td>15</td>\n",
       "      <td>Jan</td>\n",
       "      <td>1500</td>\n",
       "    </tr>\n",
       "    <tr>\n",
       "      <th>2</th>\n",
       "      <td>Saia</td>\n",
       "      <td>80</td>\n",
       "      <td>20</td>\n",
       "      <td>Jan</td>\n",
       "      <td>1600</td>\n",
       "    </tr>\n",
       "    <tr>\n",
       "      <th>4</th>\n",
       "      <td>Calça</td>\n",
       "      <td>110</td>\n",
       "      <td>10</td>\n",
       "      <td>Fev</td>\n",
       "      <td>1100</td>\n",
       "    </tr>\n",
       "    <tr>\n",
       "      <th>5</th>\n",
       "      <td>Saia</td>\n",
       "      <td>85</td>\n",
       "      <td>15</td>\n",
       "      <td>Fev</td>\n",
       "      <td>1275</td>\n",
       "    </tr>\n",
       "    <tr>\n",
       "      <th>6</th>\n",
       "      <td>Camiseta</td>\n",
       "      <td>45</td>\n",
       "      <td>30</td>\n",
       "      <td>Mar</td>\n",
       "      <td>1350</td>\n",
       "    </tr>\n",
       "    <tr>\n",
       "      <th>7</th>\n",
       "      <td>Calça</td>\n",
       "      <td>95</td>\n",
       "      <td>20</td>\n",
       "      <td>Mar</td>\n",
       "      <td>1900</td>\n",
       "    </tr>\n",
       "  </tbody>\n",
       "</table>\n",
       "</div>"
      ],
      "text/plain": [
       "    Produto  Preco  Quantidade  Mês  Receita\n",
       "1     Calça    100          15  Jan     1500\n",
       "2      Saia     80          20  Jan     1600\n",
       "4     Calça    110          10  Fev     1100\n",
       "5      Saia     85          15  Fev     1275\n",
       "6  Camiseta     45          30  Mar     1350\n",
       "7     Calça     95          20  Mar     1900"
      ]
     },
     "execution_count": 12,
     "metadata": {},
     "output_type": "execute_result"
    }
   ],
   "source": [
    "# Filtrando produtos com receita acima de R$1000\n",
    "df_vendas[df_vendas['Receita']>1000]"
   ]
  },
  {
   "cell_type": "code",
   "execution_count": 13,
   "metadata": {},
   "outputs": [
    {
     "name": "stderr",
     "output_type": "stream",
     "text": [
      "Matplotlib is building the font cache; this may take a moment.\n"
     ]
    }
   ],
   "source": [
    "import matplotlib.pyplot as plt\n"
   ]
  },
  {
   "cell_type": "code",
   "execution_count": 19,
   "metadata": {},
   "outputs": [
    {
     "name": "stdout",
     "output_type": "stream",
     "text": [
      "Index(['Produto', 'Preco', 'Quantidade', 'Mês', 'Receita'], dtype='object')\n"
     ]
    }
   ],
   "source": [
    "print(df_vendas.columns)"
   ]
  },
  {
   "cell_type": "code",
   "execution_count": 27,
   "metadata": {},
   "outputs": [
    {
     "data": {
      "text/plain": [
       "([0, 1, 2, 3],\n",
       " [Text(0, 0, 'Camisa'),\n",
       "  Text(1, 0, 'Calça'),\n",
       "  Text(2, 0, 'Saia'),\n",
       "  Text(3, 0, 'Camiseta')])"
      ]
     },
     "execution_count": 27,
     "metadata": {},
     "output_type": "execute_result"
    },
    {
     "data": {
      "image/png": "[encoded data removed]",
      "text/plain": [
       "<Figure size 1000x500 with 1 Axes>"
      ]
     },
     "metadata": {},
     "output_type": "display_data"
    }
   ],
   "source": [
    "plt.figure(figsize=(10,5)) # Tamanho do gráfico\n",
    "plt.bar(df_vendas['Produto'], df_vendas['Receita'], color='skyblue')\n",
    "plt.title('Receita Total por produto')\n",
    "plt.xlabel('Produto')\n",
    "plt.xticks(rotation=45)"
   ]
  }
 ],
 "metadata": {
  "kernelspec": {
   "display_name": "venv",
   "language": "python",
   "name": "python3"
  },
  "language_info": {
   "codemirror_mode": {
    "name": "ipython",
    "version": 3
   },
   "file_extension": ".py",
   "mimetype": "text/x-python",
   "name": "python",
   "nbconvert_exporter": "python",
   "pygments_lexer": "ipython3",
   "version": "3.12.4"
  }
 },
 "nbformat": 4,
 "nbformat_minor": 2
}

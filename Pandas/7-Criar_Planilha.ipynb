{
 "cells": [
  {
   "cell_type": "markdown",
   "metadata": {
    "vscode": {
     "languageId": "plaintext"
    }
   },
   "source": [
    "## Criando uma planilha em excel no pandas \n"
   ]
  },
  {
   "cell_type": "code",
   "execution_count": 1,
   "metadata": {},
   "outputs": [],
   "source": [
    "import pandas as pd"
   ]
  },
  {
   "cell_type": "code",
   "execution_count": 3,
   "metadata": {},
   "outputs": [],
   "source": [
    "dados = {\n",
    "    'Times':   ['Flamengo', 'Palmeiras', 'São Paulo','Santos', 'Corinthians'],\n",
    "    'Partidas_Jogadas' : [10,10,10,10,10],\n",
    "    'Vitorias': [7,5,6,4,3],\n",
    "    'Empates': [2,3,1,3,2],\n",
    "    'Derrotas': [1,2,3,3,5],\n",
    "    'Gols_Pro': [22,18,16,14,10],\n",
    "    'Gols_Contra': [10,12,15,16,20]\n",
    "\n",
    "}"
   ]
  },
  {
   "cell_type": "code",
   "execution_count": 6,
   "metadata": {},
   "outputs": [
    {
     "data": {
      "application/vnd.microsoft.datawrangler.viewer.v0+json": {
       "columns": [
        {
         "name": "index",
         "rawType": "int64",
         "type": "integer"
        },
        {
         "name": "Times",
         "rawType": "object",
         "type": "string"
        },
        {
         "name": "Partidas_Jogadas",
         "rawType": "int64",
         "type": "integer"
        },
        {
         "name": "Vitorias",
         "rawType": "int64",
         "type": "integer"
        },
        {
         "name": "Empates",
         "rawType": "int64",
         "type": "integer"
        },
        {
         "name": "Derrotas",
         "rawType": "int64",
         "type": "integer"
        },
        {
         "name": "Gols_Pro",
         "rawType": "int64",
         "type": "integer"
        },
        {
         "name": "Gols_Contra",
         "rawType": "int64",
         "type": "integer"
        }
       ],
       "conversionMethod": "pd.DataFrame",
       "ref": "8f23e5e1-27bd-45d8-bd11-52c8ceac2ed4",
       "rows": [
        [
         "0",
         "Flamengo",
         "10",
         "7",
         "2",
         "1",
         "22",
         "10"
        ],
        [
         "1",
         "Palmeiras",
         "10",
         "5",
         "3",
         "2",
         "18",
         "12"
        ],
        [
         "2",
         "São Paulo",
         "10",
         "6",
         "1",
         "3",
         "16",
         "15"
        ],
        [
         "3",
         "Santos",
         "10",
         "4",
         "3",
         "3",
         "14",
         "16"
        ],
        [
         "4",
         "Corinthians",
         "10",
         "3",
         "2",
         "5",
         "10",
         "20"
        ]
       ],
       "shape": {
        "columns": 7,
        "rows": 5
       }
      },
      "text/html": [
       "<div>\n",
       "<style scoped>\n",
       "    .dataframe tbody tr th:only-of-type {\n",
       "        vertical-align: middle;\n",
       "    }\n",
       "\n",
       "    .dataframe tbody tr th {\n",
       "        vertical-align: top;\n",
       "    }\n",
       "\n",
       "    .dataframe thead th {\n",
       "        text-align: right;\n",
       "    }\n",
       "</style>\n",
       "<table border=\"1\" class=\"dataframe\">\n",
       "  <thead>\n",
       "    <tr style=\"text-align: right;\">\n",
       "      <th></th>\n",
       "      <th>Times</th>\n",
       "      <th>Partidas_Jogadas</th>\n",
       "      <th>Vitorias</th>\n",
       "      <th>Empates</th>\n",
       "      <th>Derrotas</th>\n",
       "      <th>Gols_Pro</th>\n",
       "      <th>Gols_Contra</th>\n",
       "    </tr>\n",
       "  </thead>\n",
       "  <tbody>\n",
       "    <tr>\n",
       "      <th>0</th>\n",
       "      <td>Flamengo</td>\n",
       "      <td>10</td>\n",
       "      <td>7</td>\n",
       "      <td>2</td>\n",
       "      <td>1</td>\n",
       "      <td>22</td>\n",
       "      <td>10</td>\n",
       "    </tr>\n",
       "    <tr>\n",
       "      <th>1</th>\n",
       "      <td>Palmeiras</td>\n",
       "      <td>10</td>\n",
       "      <td>5</td>\n",
       "      <td>3</td>\n",
       "      <td>2</td>\n",
       "      <td>18</td>\n",
       "      <td>12</td>\n",
       "    </tr>\n",
       "    <tr>\n",
       "      <th>2</th>\n",
       "      <td>São Paulo</td>\n",
       "      <td>10</td>\n",
       "      <td>6</td>\n",
       "      <td>1</td>\n",
       "      <td>3</td>\n",
       "      <td>16</td>\n",
       "      <td>15</td>\n",
       "    </tr>\n",
       "    <tr>\n",
       "      <th>3</th>\n",
       "      <td>Santos</td>\n",
       "      <td>10</td>\n",
       "      <td>4</td>\n",
       "      <td>3</td>\n",
       "      <td>3</td>\n",
       "      <td>14</td>\n",
       "      <td>16</td>\n",
       "    </tr>\n",
       "    <tr>\n",
       "      <th>4</th>\n",
       "      <td>Corinthians</td>\n",
       "      <td>10</td>\n",
       "      <td>3</td>\n",
       "      <td>2</td>\n",
       "      <td>5</td>\n",
       "      <td>10</td>\n",
       "      <td>20</td>\n",
       "    </tr>\n",
       "  </tbody>\n",
       "</table>\n",
       "</div>"
      ],
      "text/plain": [
       "         Times  Partidas_Jogadas  Vitorias  Empates  Derrotas  Gols_Pro  \\\n",
       "0     Flamengo                10         7        2         1        22   \n",
       "1    Palmeiras                10         5        3         2        18   \n",
       "2    São Paulo                10         6        1         3        16   \n",
       "3       Santos                10         4        3         3        14   \n",
       "4  Corinthians                10         3        2         5        10   \n",
       "\n",
       "   Gols_Contra  \n",
       "0           10  \n",
       "1           12  \n",
       "2           15  \n",
       "3           16  \n",
       "4           20  "
      ]
     },
     "execution_count": 6,
     "metadata": {},
     "output_type": "execute_result"
    }
   ],
   "source": [
    "df = pd.DataFrame(dados)\n",
    "df"
   ]
  },
  {
   "cell_type": "code",
   "execution_count": 8,
   "metadata": {},
   "outputs": [
    {
     "data": {
      "application/vnd.microsoft.datawrangler.viewer.v0+json": {
       "columns": [
        {
         "name": "index",
         "rawType": "int64",
         "type": "integer"
        },
        {
         "name": "Times",
         "rawType": "object",
         "type": "string"
        },
        {
         "name": "Partidas_Jogadas",
         "rawType": "int64",
         "type": "integer"
        },
        {
         "name": "Vitorias",
         "rawType": "int64",
         "type": "integer"
        },
        {
         "name": "Empates",
         "rawType": "int64",
         "type": "integer"
        },
        {
         "name": "Derrotas",
         "rawType": "int64",
         "type": "integer"
        },
        {
         "name": "Gols_Pro",
         "rawType": "int64",
         "type": "integer"
        },
        {
         "name": "Gols_Contra",
         "rawType": "int64",
         "type": "integer"
        },
        {
         "name": "Saldo_Gols",
         "rawType": "int64",
         "type": "integer"
        }
       ],
       "conversionMethod": "pd.DataFrame",
       "ref": "3882f6a8-dd80-4146-93c9-d8b435898f4e",
       "rows": [
        [
         "0",
         "Flamengo",
         "10",
         "7",
         "2",
         "1",
         "22",
         "10",
         "12"
        ],
        [
         "1",
         "Palmeiras",
         "10",
         "5",
         "3",
         "2",
         "18",
         "12",
         "6"
        ],
        [
         "2",
         "São Paulo",
         "10",
         "6",
         "1",
         "3",
         "16",
         "15",
         "1"
        ],
        [
         "3",
         "Santos",
         "10",
         "4",
         "3",
         "3",
         "14",
         "16",
         "-2"
        ],
        [
         "4",
         "Corinthians",
         "10",
         "3",
         "2",
         "5",
         "10",
         "20",
         "-10"
        ]
       ],
       "shape": {
        "columns": 8,
        "rows": 5
       }
      },
      "text/html": [
       "<div>\n",
       "<style scoped>\n",
       "    .dataframe tbody tr th:only-of-type {\n",
       "        vertical-align: middle;\n",
       "    }\n",
       "\n",
       "    .dataframe tbody tr th {\n",
       "        vertical-align: top;\n",
       "    }\n",
       "\n",
       "    .dataframe thead th {\n",
       "        text-align: right;\n",
       "    }\n",
       "</style>\n",
       "<table border=\"1\" class=\"dataframe\">\n",
       "  <thead>\n",
       "    <tr style=\"text-align: right;\">\n",
       "      <th></th>\n",
       "      <th>Times</th>\n",
       "      <th>Partidas_Jogadas</th>\n",
       "      <th>Vitorias</th>\n",
       "      <th>Empates</th>\n",
       "      <th>Derrotas</th>\n",
       "      <th>Gols_Pro</th>\n",
       "      <th>Gols_Contra</th>\n",
       "      <th>Saldo_Gols</th>\n",
       "    </tr>\n",
       "  </thead>\n",
       "  <tbody>\n",
       "    <tr>\n",
       "      <th>0</th>\n",
       "      <td>Flamengo</td>\n",
       "      <td>10</td>\n",
       "      <td>7</td>\n",
       "      <td>2</td>\n",
       "      <td>1</td>\n",
       "      <td>22</td>\n",
       "      <td>10</td>\n",
       "      <td>12</td>\n",
       "    </tr>\n",
       "    <tr>\n",
       "      <th>1</th>\n",
       "      <td>Palmeiras</td>\n",
       "      <td>10</td>\n",
       "      <td>5</td>\n",
       "      <td>3</td>\n",
       "      <td>2</td>\n",
       "      <td>18</td>\n",
       "      <td>12</td>\n",
       "      <td>6</td>\n",
       "    </tr>\n",
       "    <tr>\n",
       "      <th>2</th>\n",
       "      <td>São Paulo</td>\n",
       "      <td>10</td>\n",
       "      <td>6</td>\n",
       "      <td>1</td>\n",
       "      <td>3</td>\n",
       "      <td>16</td>\n",
       "      <td>15</td>\n",
       "      <td>1</td>\n",
       "    </tr>\n",
       "    <tr>\n",
       "      <th>3</th>\n",
       "      <td>Santos</td>\n",
       "      <td>10</td>\n",
       "      <td>4</td>\n",
       "      <td>3</td>\n",
       "      <td>3</td>\n",
       "      <td>14</td>\n",
       "      <td>16</td>\n",
       "      <td>-2</td>\n",
       "    </tr>\n",
       "    <tr>\n",
       "      <th>4</th>\n",
       "      <td>Corinthians</td>\n",
       "      <td>10</td>\n",
       "      <td>3</td>\n",
       "      <td>2</td>\n",
       "      <td>5</td>\n",
       "      <td>10</td>\n",
       "      <td>20</td>\n",
       "      <td>-10</td>\n",
       "    </tr>\n",
       "  </tbody>\n",
       "</table>\n",
       "</div>"
      ],
      "text/plain": [
       "         Times  Partidas_Jogadas  Vitorias  Empates  Derrotas  Gols_Pro  \\\n",
       "0     Flamengo                10         7        2         1        22   \n",
       "1    Palmeiras                10         5        3         2        18   \n",
       "2    São Paulo                10         6        1         3        16   \n",
       "3       Santos                10         4        3         3        14   \n",
       "4  Corinthians                10         3        2         5        10   \n",
       "\n",
       "   Gols_Contra  Saldo_Gols  \n",
       "0           10          12  \n",
       "1           12           6  \n",
       "2           15           1  \n",
       "3           16          -2  \n",
       "4           20         -10  "
      ]
     },
     "execution_count": 8,
     "metadata": {},
     "output_type": "execute_result"
    }
   ],
   "source": [
    "df['Saldo_Gols'] = df['Gols_Pro'] - df['Gols_Contra']\n",
    "df"
   ]
  },
  {
   "cell_type": "code",
   "execution_count": 10,
   "metadata": {},
   "outputs": [
    {
     "data": {
      "application/vnd.microsoft.datawrangler.viewer.v0+json": {
       "columns": [
        {
         "name": "index",
         "rawType": "int64",
         "type": "integer"
        },
        {
         "name": "Times",
         "rawType": "object",
         "type": "string"
        },
        {
         "name": "Partidas_Jogadas",
         "rawType": "int64",
         "type": "integer"
        },
        {
         "name": "Vitorias",
         "rawType": "int64",
         "type": "integer"
        },
        {
         "name": "Empates",
         "rawType": "int64",
         "type": "integer"
        },
        {
         "name": "Derrotas",
         "rawType": "int64",
         "type": "integer"
        },
        {
         "name": "Gols_Pro",
         "rawType": "int64",
         "type": "integer"
        },
        {
         "name": "Gols_Contra",
         "rawType": "int64",
         "type": "integer"
        },
        {
         "name": "Saldo_Gols",
         "rawType": "int64",
         "type": "integer"
        },
        {
         "name": "Pontos",
         "rawType": "int64",
         "type": "integer"
        }
       ],
       "conversionMethod": "pd.DataFrame",
       "ref": "67a9bb04-3395-4147-bbab-51223e5e3823",
       "rows": [
        [
         "0",
         "Flamengo",
         "10",
         "7",
         "2",
         "1",
         "22",
         "10",
         "12",
         "23"
        ],
        [
         "1",
         "Palmeiras",
         "10",
         "5",
         "3",
         "2",
         "18",
         "12",
         "6",
         "18"
        ],
        [
         "2",
         "São Paulo",
         "10",
         "6",
         "1",
         "3",
         "16",
         "15",
         "1",
         "19"
        ],
        [
         "3",
         "Santos",
         "10",
         "4",
         "3",
         "3",
         "14",
         "16",
         "-2",
         "15"
        ],
        [
         "4",
         "Corinthians",
         "10",
         "3",
         "2",
         "5",
         "10",
         "20",
         "-10",
         "11"
        ]
       ],
       "shape": {
        "columns": 9,
        "rows": 5
       }
      },
      "text/html": [
       "<div>\n",
       "<style scoped>\n",
       "    .dataframe tbody tr th:only-of-type {\n",
       "        vertical-align: middle;\n",
       "    }\n",
       "\n",
       "    .dataframe tbody tr th {\n",
       "        vertical-align: top;\n",
       "    }\n",
       "\n",
       "    .dataframe thead th {\n",
       "        text-align: right;\n",
       "    }\n",
       "</style>\n",
       "<table border=\"1\" class=\"dataframe\">\n",
       "  <thead>\n",
       "    <tr style=\"text-align: right;\">\n",
       "      <th></th>\n",
       "      <th>Times</th>\n",
       "      <th>Partidas_Jogadas</th>\n",
       "      <th>Vitorias</th>\n",
       "      <th>Empates</th>\n",
       "      <th>Derrotas</th>\n",
       "      <th>Gols_Pro</th>\n",
       "      <th>Gols_Contra</th>\n",
       "      <th>Saldo_Gols</th>\n",
       "      <th>Pontos</th>\n",
       "    </tr>\n",
       "  </thead>\n",
       "  <tbody>\n",
       "    <tr>\n",
       "      <th>0</th>\n",
       "      <td>Flamengo</td>\n",
       "      <td>10</td>\n",
       "      <td>7</td>\n",
       "      <td>2</td>\n",
       "      <td>1</td>\n",
       "      <td>22</td>\n",
       "      <td>10</td>\n",
       "      <td>12</td>\n",
       "      <td>23</td>\n",
       "    </tr>\n",
       "    <tr>\n",
       "      <th>1</th>\n",
       "      <td>Palmeiras</td>\n",
       "      <td>10</td>\n",
       "      <td>5</td>\n",
       "      <td>3</td>\n",
       "      <td>2</td>\n",
       "      <td>18</td>\n",
       "      <td>12</td>\n",
       "      <td>6</td>\n",
       "      <td>18</td>\n",
       "    </tr>\n",
       "    <tr>\n",
       "      <th>2</th>\n",
       "      <td>São Paulo</td>\n",
       "      <td>10</td>\n",
       "      <td>6</td>\n",
       "      <td>1</td>\n",
       "      <td>3</td>\n",
       "      <td>16</td>\n",
       "      <td>15</td>\n",
       "      <td>1</td>\n",
       "      <td>19</td>\n",
       "    </tr>\n",
       "    <tr>\n",
       "      <th>3</th>\n",
       "      <td>Santos</td>\n",
       "      <td>10</td>\n",
       "      <td>4</td>\n",
       "      <td>3</td>\n",
       "      <td>3</td>\n",
       "      <td>14</td>\n",
       "      <td>16</td>\n",
       "      <td>-2</td>\n",
       "      <td>15</td>\n",
       "    </tr>\n",
       "    <tr>\n",
       "      <th>4</th>\n",
       "      <td>Corinthians</td>\n",
       "      <td>10</td>\n",
       "      <td>3</td>\n",
       "      <td>2</td>\n",
       "      <td>5</td>\n",
       "      <td>10</td>\n",
       "      <td>20</td>\n",
       "      <td>-10</td>\n",
       "      <td>11</td>\n",
       "    </tr>\n",
       "  </tbody>\n",
       "</table>\n",
       "</div>"
      ],
      "text/plain": [
       "         Times  Partidas_Jogadas  Vitorias  Empates  Derrotas  Gols_Pro  \\\n",
       "0     Flamengo                10         7        2         1        22   \n",
       "1    Palmeiras                10         5        3         2        18   \n",
       "2    São Paulo                10         6        1         3        16   \n",
       "3       Santos                10         4        3         3        14   \n",
       "4  Corinthians                10         3        2         5        10   \n",
       "\n",
       "   Gols_Contra  Saldo_Gols  Pontos  \n",
       "0           10          12      23  \n",
       "1           12           6      18  \n",
       "2           15           1      19  \n",
       "3           16          -2      15  \n",
       "4           20         -10      11  "
      ]
     },
     "execution_count": 10,
     "metadata": {},
     "output_type": "execute_result"
    }
   ],
   "source": [
    "df['Pontos'] = df['Vitorias'] * 3 + df['Empates'] *1\n",
    "df\n"
   ]
  },
  {
   "cell_type": "code",
   "execution_count": 13,
   "metadata": {},
   "outputs": [
    {
     "data": {
      "application/vnd.microsoft.datawrangler.viewer.v0+json": {
       "columns": [
        {
         "name": "index",
         "rawType": "int64",
         "type": "integer"
        },
        {
         "name": "Times",
         "rawType": "object",
         "type": "string"
        },
        {
         "name": "Partidas_Jogadas",
         "rawType": "int64",
         "type": "integer"
        },
        {
         "name": "Vitorias",
         "rawType": "int64",
         "type": "integer"
        },
        {
         "name": "Empates",
         "rawType": "int64",
         "type": "integer"
        },
        {
         "name": "Derrotas",
         "rawType": "int64",
         "type": "integer"
        },
        {
         "name": "Gols_Pro",
         "rawType": "int64",
         "type": "integer"
        },
        {
         "name": "Gols_Contra",
         "rawType": "int64",
         "type": "integer"
        },
        {
         "name": "Saldo_Gols",
         "rawType": "int64",
         "type": "integer"
        },
        {
         "name": "Pontos",
         "rawType": "int64",
         "type": "integer"
        }
       ],
       "conversionMethod": "pd.DataFrame",
       "ref": "aeee0e58-5693-4c6a-bfae-ef3d9feac033",
       "rows": [
        [
         "0",
         "Flamengo",
         "10",
         "7",
         "2",
         "1",
         "22",
         "10",
         "12",
         "23"
        ],
        [
         "2",
         "São Paulo",
         "10",
         "6",
         "1",
         "3",
         "16",
         "15",
         "1",
         "19"
        ],
        [
         "1",
         "Palmeiras",
         "10",
         "5",
         "3",
         "2",
         "18",
         "12",
         "6",
         "18"
        ],
        [
         "3",
         "Santos",
         "10",
         "4",
         "3",
         "3",
         "14",
         "16",
         "-2",
         "15"
        ],
        [
         "4",
         "Corinthians",
         "10",
         "3",
         "2",
         "5",
         "10",
         "20",
         "-10",
         "11"
        ]
       ],
       "shape": {
        "columns": 9,
        "rows": 5
       }
      },
      "text/html": [
       "<div>\n",
       "<style scoped>\n",
       "    .dataframe tbody tr th:only-of-type {\n",
       "        vertical-align: middle;\n",
       "    }\n",
       "\n",
       "    .dataframe tbody tr th {\n",
       "        vertical-align: top;\n",
       "    }\n",
       "\n",
       "    .dataframe thead th {\n",
       "        text-align: right;\n",
       "    }\n",
       "</style>\n",
       "<table border=\"1\" class=\"dataframe\">\n",
       "  <thead>\n",
       "    <tr style=\"text-align: right;\">\n",
       "      <th></th>\n",
       "      <th>Times</th>\n",
       "      <th>Partidas_Jogadas</th>\n",
       "      <th>Vitorias</th>\n",
       "      <th>Empates</th>\n",
       "      <th>Derrotas</th>\n",
       "      <th>Gols_Pro</th>\n",
       "      <th>Gols_Contra</th>\n",
       "      <th>Saldo_Gols</th>\n",
       "      <th>Pontos</th>\n",
       "    </tr>\n",
       "  </thead>\n",
       "  <tbody>\n",
       "    <tr>\n",
       "      <th>0</th>\n",
       "      <td>Flamengo</td>\n",
       "      <td>10</td>\n",
       "      <td>7</td>\n",
       "      <td>2</td>\n",
       "      <td>1</td>\n",
       "      <td>22</td>\n",
       "      <td>10</td>\n",
       "      <td>12</td>\n",
       "      <td>23</td>\n",
       "    </tr>\n",
       "    <tr>\n",
       "      <th>2</th>\n",
       "      <td>São Paulo</td>\n",
       "      <td>10</td>\n",
       "      <td>6</td>\n",
       "      <td>1</td>\n",
       "      <td>3</td>\n",
       "      <td>16</td>\n",
       "      <td>15</td>\n",
       "      <td>1</td>\n",
       "      <td>19</td>\n",
       "    </tr>\n",
       "    <tr>\n",
       "      <th>1</th>\n",
       "      <td>Palmeiras</td>\n",
       "      <td>10</td>\n",
       "      <td>5</td>\n",
       "      <td>3</td>\n",
       "      <td>2</td>\n",
       "      <td>18</td>\n",
       "      <td>12</td>\n",
       "      <td>6</td>\n",
       "      <td>18</td>\n",
       "    </tr>\n",
       "    <tr>\n",
       "      <th>3</th>\n",
       "      <td>Santos</td>\n",
       "      <td>10</td>\n",
       "      <td>4</td>\n",
       "      <td>3</td>\n",
       "      <td>3</td>\n",
       "      <td>14</td>\n",
       "      <td>16</td>\n",
       "      <td>-2</td>\n",
       "      <td>15</td>\n",
       "    </tr>\n",
       "    <tr>\n",
       "      <th>4</th>\n",
       "      <td>Corinthians</td>\n",
       "      <td>10</td>\n",
       "      <td>3</td>\n",
       "      <td>2</td>\n",
       "      <td>5</td>\n",
       "      <td>10</td>\n",
       "      <td>20</td>\n",
       "      <td>-10</td>\n",
       "      <td>11</td>\n",
       "    </tr>\n",
       "  </tbody>\n",
       "</table>\n",
       "</div>"
      ],
      "text/plain": [
       "         Times  Partidas_Jogadas  Vitorias  Empates  Derrotas  Gols_Pro  \\\n",
       "0     Flamengo                10         7        2         1        22   \n",
       "2    São Paulo                10         6        1         3        16   \n",
       "1    Palmeiras                10         5        3         2        18   \n",
       "3       Santos                10         4        3         3        14   \n",
       "4  Corinthians                10         3        2         5        10   \n",
       "\n",
       "   Gols_Contra  Saldo_Gols  Pontos  \n",
       "0           10          12      23  \n",
       "2           15           1      19  \n",
       "1           12           6      18  \n",
       "3           16          -2      15  \n",
       "4           20         -10      11  "
      ]
     },
     "execution_count": 13,
     "metadata": {},
     "output_type": "execute_result"
    }
   ],
   "source": [
    "# Ordenando o Dataframe por pontos\n",
    "df  = df.sort_values(by='Pontos', ascending=False)\n",
    "df"
   ]
  },
  {
   "cell_type": "code",
   "execution_count": 15,
   "metadata": {},
   "outputs": [],
   "source": [
    "df.to_excel('../dados/campeonato_brasileiro.xlsx', index=False)"
   ]
  }
 ],
 "metadata": {
  "kernelspec": {
   "display_name": "venv",
   "language": "python",
   "name": "python3"
  },
  "language_info": {
   "codemirror_mode": {
    "name": "ipython",
    "version": 3
   },
   "file_extension": ".py",
   "mimetype": "text/x-python",
   "name": "python",
   "nbconvert_exporter": "python",
   "pygments_lexer": "ipython3",
   "version": "3.12.4"
  }
 },
 "nbformat": 4,
 "nbformat_minor": 2
}

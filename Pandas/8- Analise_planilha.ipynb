{
 "cells": [
  {
   "cell_type": "markdown",
   "metadata": {},
   "source": [
    "## Análise de dados direto de planilha "
   ]
  },
  {
   "cell_type": "code",
   "execution_count": 5,
   "metadata": {},
   "outputs": [],
   "source": [
    "import pandas as pd\n",
    "import openpyxl"
   ]
  },
  {
   "cell_type": "code",
   "execution_count": 7,
   "metadata": {},
   "outputs": [],
   "source": [
    "df = pd.read_excel('../Dados/campeonato_brasileiro.xlsx')"
   ]
  },
  {
   "cell_type": "code",
   "execution_count": 8,
   "metadata": {},
   "outputs": [
    {
     "data": {
      "application/vnd.microsoft.datawrangler.viewer.v0+json": {
       "columns": [
        {
         "name": "index",
         "rawType": "int64",
         "type": "integer"
        },
        {
         "name": "Times",
         "rawType": "object",
         "type": "string"
        },
        {
         "name": "Partidas_Jogadas",
         "rawType": "int64",
         "type": "integer"
        },
        {
         "name": "Vitorias",
         "rawType": "int64",
         "type": "integer"
        },
        {
         "name": "Empates",
         "rawType": "int64",
         "type": "integer"
        },
        {
         "name": "Derrotas",
         "rawType": "int64",
         "type": "integer"
        },
        {
         "name": "Gols_Pro",
         "rawType": "int64",
         "type": "integer"
        },
        {
         "name": "Gols_Contra",
         "rawType": "int64",
         "type": "integer"
        },
        {
         "name": "Saldo_Gols",
         "rawType": "int64",
         "type": "integer"
        },
        {
         "name": "Pontos",
         "rawType": "int64",
         "type": "integer"
        }
       ],
       "conversionMethod": "pd.DataFrame",
       "ref": "b695c15b-183a-41d0-badb-c36703b9e155",
       "rows": [
        [
         "0",
         "Flamengo",
         "10",
         "7",
         "2",
         "1",
         "22",
         "10",
         "12",
         "23"
        ],
        [
         "1",
         "São Paulo",
         "10",
         "6",
         "1",
         "3",
         "16",
         "15",
         "1",
         "19"
        ],
        [
         "2",
         "Palmeiras",
         "10",
         "5",
         "3",
         "2",
         "18",
         "12",
         "6",
         "18"
        ],
        [
         "3",
         "Santos",
         "10",
         "4",
         "3",
         "3",
         "14",
         "16",
         "-2",
         "15"
        ],
        [
         "4",
         "Corinthians",
         "10",
         "3",
         "2",
         "5",
         "10",
         "20",
         "-10",
         "11"
        ]
       ],
       "shape": {
        "columns": 9,
        "rows": 5
       }
      },
      "text/html": [
       "<div>\n",
       "<style scoped>\n",
       "    .dataframe tbody tr th:only-of-type {\n",
       "        vertical-align: middle;\n",
       "    }\n",
       "\n",
       "    .dataframe tbody tr th {\n",
       "        vertical-align: top;\n",
       "    }\n",
       "\n",
       "    .dataframe thead th {\n",
       "        text-align: right;\n",
       "    }\n",
       "</style>\n",
       "<table border=\"1\" class=\"dataframe\">\n",
       "  <thead>\n",
       "    <tr style=\"text-align: right;\">\n",
       "      <th></th>\n",
       "      <th>Times</th>\n",
       "      <th>Partidas_Jogadas</th>\n",
       "      <th>Vitorias</th>\n",
       "      <th>Empates</th>\n",
       "      <th>Derrotas</th>\n",
       "      <th>Gols_Pro</th>\n",
       "      <th>Gols_Contra</th>\n",
       "      <th>Saldo_Gols</th>\n",
       "      <th>Pontos</th>\n",
       "    </tr>\n",
       "  </thead>\n",
       "  <tbody>\n",
       "    <tr>\n",
       "      <th>0</th>\n",
       "      <td>Flamengo</td>\n",
       "      <td>10</td>\n",
       "      <td>7</td>\n",
       "      <td>2</td>\n",
       "      <td>1</td>\n",
       "      <td>22</td>\n",
       "      <td>10</td>\n",
       "      <td>12</td>\n",
       "      <td>23</td>\n",
       "    </tr>\n",
       "    <tr>\n",
       "      <th>1</th>\n",
       "      <td>São Paulo</td>\n",
       "      <td>10</td>\n",
       "      <td>6</td>\n",
       "      <td>1</td>\n",
       "      <td>3</td>\n",
       "      <td>16</td>\n",
       "      <td>15</td>\n",
       "      <td>1</td>\n",
       "      <td>19</td>\n",
       "    </tr>\n",
       "    <tr>\n",
       "      <th>2</th>\n",
       "      <td>Palmeiras</td>\n",
       "      <td>10</td>\n",
       "      <td>5</td>\n",
       "      <td>3</td>\n",
       "      <td>2</td>\n",
       "      <td>18</td>\n",
       "      <td>12</td>\n",
       "      <td>6</td>\n",
       "      <td>18</td>\n",
       "    </tr>\n",
       "    <tr>\n",
       "      <th>3</th>\n",
       "      <td>Santos</td>\n",
       "      <td>10</td>\n",
       "      <td>4</td>\n",
       "      <td>3</td>\n",
       "      <td>3</td>\n",
       "      <td>14</td>\n",
       "      <td>16</td>\n",
       "      <td>-2</td>\n",
       "      <td>15</td>\n",
       "    </tr>\n",
       "    <tr>\n",
       "      <th>4</th>\n",
       "      <td>Corinthians</td>\n",
       "      <td>10</td>\n",
       "      <td>3</td>\n",
       "      <td>2</td>\n",
       "      <td>5</td>\n",
       "      <td>10</td>\n",
       "      <td>20</td>\n",
       "      <td>-10</td>\n",
       "      <td>11</td>\n",
       "    </tr>\n",
       "  </tbody>\n",
       "</table>\n",
       "</div>"
      ],
      "text/plain": [
       "         Times  Partidas_Jogadas  Vitorias  Empates  Derrotas  Gols_Pro  \\\n",
       "0     Flamengo                10         7        2         1        22   \n",
       "1    São Paulo                10         6        1         3        16   \n",
       "2    Palmeiras                10         5        3         2        18   \n",
       "3       Santos                10         4        3         3        14   \n",
       "4  Corinthians                10         3        2         5        10   \n",
       "\n",
       "   Gols_Contra  Saldo_Gols  Pontos  \n",
       "0           10          12      23  \n",
       "1           15           1      19  \n",
       "2           12           6      18  \n",
       "3           16          -2      15  \n",
       "4           20         -10      11  "
      ]
     },
     "execution_count": 8,
     "metadata": {},
     "output_type": "execute_result"
    }
   ],
   "source": [
    "df.head()"
   ]
  },
  {
   "cell_type": "code",
   "execution_count": 9,
   "metadata": {},
   "outputs": [
    {
     "data": {
      "text/plain": [
       "Times               object\n",
       "Partidas_Jogadas     int64\n",
       "Vitorias             int64\n",
       "Empates              int64\n",
       "Derrotas             int64\n",
       "Gols_Pro             int64\n",
       "Gols_Contra          int64\n",
       "Saldo_Gols           int64\n",
       "Pontos               int64\n",
       "dtype: object"
      ]
     },
     "execution_count": 9,
     "metadata": {},
     "output_type": "execute_result"
    }
   ],
   "source": [
    "# Verificando os tipos de dados\n",
    "df.dtypes"
   ]
  },
  {
   "cell_type": "code",
   "execution_count": 11,
   "metadata": {},
   "outputs": [
    {
     "data": {
      "application/vnd.microsoft.datawrangler.viewer.v0+json": {
       "columns": [
        {
         "name": "index",
         "rawType": "object",
         "type": "string"
        },
        {
         "name": "Partidas_Jogadas",
         "rawType": "float64",
         "type": "float"
        },
        {
         "name": "Vitorias",
         "rawType": "float64",
         "type": "float"
        },
        {
         "name": "Empates",
         "rawType": "float64",
         "type": "float"
        },
        {
         "name": "Derrotas",
         "rawType": "float64",
         "type": "float"
        },
        {
         "name": "Gols_Pro",
         "rawType": "float64",
         "type": "float"
        },
        {
         "name": "Gols_Contra",
         "rawType": "float64",
         "type": "float"
        },
        {
         "name": "Saldo_Gols",
         "rawType": "float64",
         "type": "float"
        },
        {
         "name": "Pontos",
         "rawType": "float64",
         "type": "float"
        }
       ],
       "conversionMethod": "pd.DataFrame",
       "ref": "3d9f941a-9567-47cb-9c45-3170063d4559",
       "rows": [
        [
         "count",
         "5.0",
         "5.0",
         "5.0",
         "5.0",
         "5.0",
         "5.0",
         "5.0",
         "5.0"
        ],
        [
         "mean",
         "10.0",
         "5.0",
         "2.2",
         "2.8",
         "16.0",
         "14.6",
         "1.4",
         "17.2"
        ],
        [
         "std",
         "0.0",
         "1.5811388300841898",
         "0.8366600265340756",
         "1.4832396974191326",
         "4.47213595499958",
         "3.847076812334269",
         "8.29457654133109",
         "4.494441010848846"
        ],
        [
         "min",
         "10.0",
         "3.0",
         "1.0",
         "1.0",
         "10.0",
         "10.0",
         "-10.0",
         "11.0"
        ],
        [
         "25%",
         "10.0",
         "4.0",
         "2.0",
         "2.0",
         "14.0",
         "12.0",
         "-2.0",
         "15.0"
        ],
        [
         "50%",
         "10.0",
         "5.0",
         "2.0",
         "3.0",
         "16.0",
         "15.0",
         "1.0",
         "18.0"
        ],
        [
         "75%",
         "10.0",
         "6.0",
         "3.0",
         "3.0",
         "18.0",
         "16.0",
         "6.0",
         "19.0"
        ],
        [
         "max",
         "10.0",
         "7.0",
         "3.0",
         "5.0",
         "22.0",
         "20.0",
         "12.0",
         "23.0"
        ]
       ],
       "shape": {
        "columns": 8,
        "rows": 8
       }
      },
      "text/html": [
       "<div>\n",
       "<style scoped>\n",
       "    .dataframe tbody tr th:only-of-type {\n",
       "        vertical-align: middle;\n",
       "    }\n",
       "\n",
       "    .dataframe tbody tr th {\n",
       "        vertical-align: top;\n",
       "    }\n",
       "\n",
       "    .dataframe thead th {\n",
       "        text-align: right;\n",
       "    }\n",
       "</style>\n",
       "<table border=\"1\" class=\"dataframe\">\n",
       "  <thead>\n",
       "    <tr style=\"text-align: right;\">\n",
       "      <th></th>\n",
       "      <th>Partidas_Jogadas</th>\n",
       "      <th>Vitorias</th>\n",
       "      <th>Empates</th>\n",
       "      <th>Derrotas</th>\n",
       "      <th>Gols_Pro</th>\n",
       "      <th>Gols_Contra</th>\n",
       "      <th>Saldo_Gols</th>\n",
       "      <th>Pontos</th>\n",
       "    </tr>\n",
       "  </thead>\n",
       "  <tbody>\n",
       "    <tr>\n",
       "      <th>count</th>\n",
       "      <td>5.0</td>\n",
       "      <td>5.000000</td>\n",
       "      <td>5.00000</td>\n",
       "      <td>5.00000</td>\n",
       "      <td>5.000000</td>\n",
       "      <td>5.000000</td>\n",
       "      <td>5.000000</td>\n",
       "      <td>5.000000</td>\n",
       "    </tr>\n",
       "    <tr>\n",
       "      <th>mean</th>\n",
       "      <td>10.0</td>\n",
       "      <td>5.000000</td>\n",
       "      <td>2.20000</td>\n",
       "      <td>2.80000</td>\n",
       "      <td>16.000000</td>\n",
       "      <td>14.600000</td>\n",
       "      <td>1.400000</td>\n",
       "      <td>17.200000</td>\n",
       "    </tr>\n",
       "    <tr>\n",
       "      <th>std</th>\n",
       "      <td>0.0</td>\n",
       "      <td>1.581139</td>\n",
       "      <td>0.83666</td>\n",
       "      <td>1.48324</td>\n",
       "      <td>4.472136</td>\n",
       "      <td>3.847077</td>\n",
       "      <td>8.294577</td>\n",
       "      <td>4.494441</td>\n",
       "    </tr>\n",
       "    <tr>\n",
       "      <th>min</th>\n",
       "      <td>10.0</td>\n",
       "      <td>3.000000</td>\n",
       "      <td>1.00000</td>\n",
       "      <td>1.00000</td>\n",
       "      <td>10.000000</td>\n",
       "      <td>10.000000</td>\n",
       "      <td>-10.000000</td>\n",
       "      <td>11.000000</td>\n",
       "    </tr>\n",
       "    <tr>\n",
       "      <th>25%</th>\n",
       "      <td>10.0</td>\n",
       "      <td>4.000000</td>\n",
       "      <td>2.00000</td>\n",
       "      <td>2.00000</td>\n",
       "      <td>14.000000</td>\n",
       "      <td>12.000000</td>\n",
       "      <td>-2.000000</td>\n",
       "      <td>15.000000</td>\n",
       "    </tr>\n",
       "    <tr>\n",
       "      <th>50%</th>\n",
       "      <td>10.0</td>\n",
       "      <td>5.000000</td>\n",
       "      <td>2.00000</td>\n",
       "      <td>3.00000</td>\n",
       "      <td>16.000000</td>\n",
       "      <td>15.000000</td>\n",
       "      <td>1.000000</td>\n",
       "      <td>18.000000</td>\n",
       "    </tr>\n",
       "    <tr>\n",
       "      <th>75%</th>\n",
       "      <td>10.0</td>\n",
       "      <td>6.000000</td>\n",
       "      <td>3.00000</td>\n",
       "      <td>3.00000</td>\n",
       "      <td>18.000000</td>\n",
       "      <td>16.000000</td>\n",
       "      <td>6.000000</td>\n",
       "      <td>19.000000</td>\n",
       "    </tr>\n",
       "    <tr>\n",
       "      <th>max</th>\n",
       "      <td>10.0</td>\n",
       "      <td>7.000000</td>\n",
       "      <td>3.00000</td>\n",
       "      <td>5.00000</td>\n",
       "      <td>22.000000</td>\n",
       "      <td>20.000000</td>\n",
       "      <td>12.000000</td>\n",
       "      <td>23.000000</td>\n",
       "    </tr>\n",
       "  </tbody>\n",
       "</table>\n",
       "</div>"
      ],
      "text/plain": [
       "       Partidas_Jogadas  Vitorias  Empates  Derrotas   Gols_Pro  Gols_Contra  \\\n",
       "count               5.0  5.000000  5.00000   5.00000   5.000000     5.000000   \n",
       "mean               10.0  5.000000  2.20000   2.80000  16.000000    14.600000   \n",
       "std                 0.0  1.581139  0.83666   1.48324   4.472136     3.847077   \n",
       "min                10.0  3.000000  1.00000   1.00000  10.000000    10.000000   \n",
       "25%                10.0  4.000000  2.00000   2.00000  14.000000    12.000000   \n",
       "50%                10.0  5.000000  2.00000   3.00000  16.000000    15.000000   \n",
       "75%                10.0  6.000000  3.00000   3.00000  18.000000    16.000000   \n",
       "max                10.0  7.000000  3.00000   5.00000  22.000000    20.000000   \n",
       "\n",
       "       Saldo_Gols     Pontos  \n",
       "count    5.000000   5.000000  \n",
       "mean     1.400000  17.200000  \n",
       "std      8.294577   4.494441  \n",
       "min    -10.000000  11.000000  \n",
       "25%     -2.000000  15.000000  \n",
       "50%      1.000000  18.000000  \n",
       "75%      6.000000  19.000000  \n",
       "max     12.000000  23.000000  "
      ]
     },
     "execution_count": 11,
     "metadata": {},
     "output_type": "execute_result"
    }
   ],
   "source": [
    "# Medidas estatísticas\n",
    "df.describe()"
   ]
  },
  {
   "cell_type": "code",
   "execution_count": 13,
   "metadata": {},
   "outputs": [
    {
     "data": {
      "application/vnd.microsoft.datawrangler.viewer.v0+json": {
       "columns": [
        {
         "name": "index",
         "rawType": "int64",
         "type": "integer"
        },
        {
         "name": "Times",
         "rawType": "object",
         "type": "string"
        },
        {
         "name": "Partidas_Jogadas",
         "rawType": "int64",
         "type": "integer"
        },
        {
         "name": "Vitorias",
         "rawType": "int64",
         "type": "integer"
        },
        {
         "name": "Empates",
         "rawType": "int64",
         "type": "integer"
        },
        {
         "name": "Derrotas",
         "rawType": "int64",
         "type": "integer"
        },
        {
         "name": "Gols_Pro",
         "rawType": "int64",
         "type": "integer"
        },
        {
         "name": "Gols_Contra",
         "rawType": "int64",
         "type": "integer"
        },
        {
         "name": "Saldo_Gols",
         "rawType": "int64",
         "type": "integer"
        },
        {
         "name": "Pontos",
         "rawType": "int64",
         "type": "integer"
        }
       ],
       "conversionMethod": "pd.DataFrame",
       "ref": "41215dad-a876-4c9f-9924-49d17b12d371",
       "rows": [
        [
         "0",
         "Flamengo",
         "10",
         "7",
         "2",
         "1",
         "22",
         "10",
         "12",
         "23"
        ],
        [
         "1",
         "São Paulo",
         "10",
         "6",
         "1",
         "3",
         "16",
         "15",
         "1",
         "19"
        ]
       ],
       "shape": {
        "columns": 9,
        "rows": 2
       }
      },
      "text/html": [
       "<div>\n",
       "<style scoped>\n",
       "    .dataframe tbody tr th:only-of-type {\n",
       "        vertical-align: middle;\n",
       "    }\n",
       "\n",
       "    .dataframe tbody tr th {\n",
       "        vertical-align: top;\n",
       "    }\n",
       "\n",
       "    .dataframe thead th {\n",
       "        text-align: right;\n",
       "    }\n",
       "</style>\n",
       "<table border=\"1\" class=\"dataframe\">\n",
       "  <thead>\n",
       "    <tr style=\"text-align: right;\">\n",
       "      <th></th>\n",
       "      <th>Times</th>\n",
       "      <th>Partidas_Jogadas</th>\n",
       "      <th>Vitorias</th>\n",
       "      <th>Empates</th>\n",
       "      <th>Derrotas</th>\n",
       "      <th>Gols_Pro</th>\n",
       "      <th>Gols_Contra</th>\n",
       "      <th>Saldo_Gols</th>\n",
       "      <th>Pontos</th>\n",
       "    </tr>\n",
       "  </thead>\n",
       "  <tbody>\n",
       "    <tr>\n",
       "      <th>0</th>\n",
       "      <td>Flamengo</td>\n",
       "      <td>10</td>\n",
       "      <td>7</td>\n",
       "      <td>2</td>\n",
       "      <td>1</td>\n",
       "      <td>22</td>\n",
       "      <td>10</td>\n",
       "      <td>12</td>\n",
       "      <td>23</td>\n",
       "    </tr>\n",
       "    <tr>\n",
       "      <th>1</th>\n",
       "      <td>São Paulo</td>\n",
       "      <td>10</td>\n",
       "      <td>6</td>\n",
       "      <td>1</td>\n",
       "      <td>3</td>\n",
       "      <td>16</td>\n",
       "      <td>15</td>\n",
       "      <td>1</td>\n",
       "      <td>19</td>\n",
       "    </tr>\n",
       "  </tbody>\n",
       "</table>\n",
       "</div>"
      ],
      "text/plain": [
       "       Times  Partidas_Jogadas  Vitorias  Empates  Derrotas  Gols_Pro  \\\n",
       "0   Flamengo                10         7        2         1        22   \n",
       "1  São Paulo                10         6        1         3        16   \n",
       "\n",
       "   Gols_Contra  Saldo_Gols  Pontos  \n",
       "0           10          12      23  \n",
       "1           15           1      19  "
      ]
     },
     "execution_count": 13,
     "metadata": {},
     "output_type": "execute_result"
    }
   ],
   "source": [
    "# primeiros 2 colocados\n",
    "df.head(2)"
   ]
  },
  {
   "cell_type": "code",
   "execution_count": 14,
   "metadata": {},
   "outputs": [
    {
     "data": {
      "application/vnd.microsoft.datawrangler.viewer.v0+json": {
       "columns": [
        {
         "name": "index",
         "rawType": "int64",
         "type": "integer"
        },
        {
         "name": "Times",
         "rawType": "object",
         "type": "string"
        },
        {
         "name": "Partidas_Jogadas",
         "rawType": "int64",
         "type": "integer"
        },
        {
         "name": "Vitorias",
         "rawType": "int64",
         "type": "integer"
        },
        {
         "name": "Empates",
         "rawType": "int64",
         "type": "integer"
        },
        {
         "name": "Derrotas",
         "rawType": "int64",
         "type": "integer"
        },
        {
         "name": "Gols_Pro",
         "rawType": "int64",
         "type": "integer"
        },
        {
         "name": "Gols_Contra",
         "rawType": "int64",
         "type": "integer"
        },
        {
         "name": "Saldo_Gols",
         "rawType": "int64",
         "type": "integer"
        },
        {
         "name": "Pontos",
         "rawType": "int64",
         "type": "integer"
        }
       ],
       "conversionMethod": "pd.DataFrame",
       "ref": "5ba0ebfd-c4f8-4b4b-87d2-a2d19f61468b",
       "rows": [
        [
         "3",
         "Santos",
         "10",
         "4",
         "3",
         "3",
         "14",
         "16",
         "-2",
         "15"
        ],
        [
         "4",
         "Corinthians",
         "10",
         "3",
         "2",
         "5",
         "10",
         "20",
         "-10",
         "11"
        ]
       ],
       "shape": {
        "columns": 9,
        "rows": 2
       }
      },
      "text/html": [
       "<div>\n",
       "<style scoped>\n",
       "    .dataframe tbody tr th:only-of-type {\n",
       "        vertical-align: middle;\n",
       "    }\n",
       "\n",
       "    .dataframe tbody tr th {\n",
       "        vertical-align: top;\n",
       "    }\n",
       "\n",
       "    .dataframe thead th {\n",
       "        text-align: right;\n",
       "    }\n",
       "</style>\n",
       "<table border=\"1\" class=\"dataframe\">\n",
       "  <thead>\n",
       "    <tr style=\"text-align: right;\">\n",
       "      <th></th>\n",
       "      <th>Times</th>\n",
       "      <th>Partidas_Jogadas</th>\n",
       "      <th>Vitorias</th>\n",
       "      <th>Empates</th>\n",
       "      <th>Derrotas</th>\n",
       "      <th>Gols_Pro</th>\n",
       "      <th>Gols_Contra</th>\n",
       "      <th>Saldo_Gols</th>\n",
       "      <th>Pontos</th>\n",
       "    </tr>\n",
       "  </thead>\n",
       "  <tbody>\n",
       "    <tr>\n",
       "      <th>3</th>\n",
       "      <td>Santos</td>\n",
       "      <td>10</td>\n",
       "      <td>4</td>\n",
       "      <td>3</td>\n",
       "      <td>3</td>\n",
       "      <td>14</td>\n",
       "      <td>16</td>\n",
       "      <td>-2</td>\n",
       "      <td>15</td>\n",
       "    </tr>\n",
       "    <tr>\n",
       "      <th>4</th>\n",
       "      <td>Corinthians</td>\n",
       "      <td>10</td>\n",
       "      <td>3</td>\n",
       "      <td>2</td>\n",
       "      <td>5</td>\n",
       "      <td>10</td>\n",
       "      <td>20</td>\n",
       "      <td>-10</td>\n",
       "      <td>11</td>\n",
       "    </tr>\n",
       "  </tbody>\n",
       "</table>\n",
       "</div>"
      ],
      "text/plain": [
       "         Times  Partidas_Jogadas  Vitorias  Empates  Derrotas  Gols_Pro  \\\n",
       "3       Santos                10         4        3         3        14   \n",
       "4  Corinthians                10         3        2         5        10   \n",
       "\n",
       "   Gols_Contra  Saldo_Gols  Pontos  \n",
       "3           16          -2      15  \n",
       "4           20         -10      11  "
      ]
     },
     "execution_count": 14,
     "metadata": {},
     "output_type": "execute_result"
    }
   ],
   "source": [
    "# últimos 2 colocados\n",
    "df.tail(2)"
   ]
  },
  {
   "cell_type": "code",
   "execution_count": 16,
   "metadata": {},
   "outputs": [
    {
     "data": {
      "application/vnd.microsoft.datawrangler.viewer.v0+json": {
       "columns": [
        {
         "name": "Times",
         "rawType": "object",
         "type": "string"
        },
        {
         "name": "Pontos",
         "rawType": "int64",
         "type": "integer"
        },
        {
         "name": "Vitorias",
         "rawType": "int64",
         "type": "integer"
        },
        {
         "name": "Saldo_Gols",
         "rawType": "int64",
         "type": "integer"
        }
       ],
       "conversionMethod": "pd.DataFrame",
       "ref": "5bf42079-c6a1-457a-bab5-aa26ae914746",
       "rows": [
        [
         "Flamengo",
         "23",
         "7",
         "12"
        ],
        [
         "São Paulo",
         "19",
         "6",
         "1"
        ],
        [
         "Palmeiras",
         "18",
         "5",
         "6"
        ],
        [
         "Santos",
         "15",
         "4",
         "-2"
        ],
        [
         "Corinthians",
         "11",
         "3",
         "-10"
        ]
       ],
       "shape": {
        "columns": 3,
        "rows": 5
       }
      },
      "text/html": [
       "<div>\n",
       "<style scoped>\n",
       "    .dataframe tbody tr th:only-of-type {\n",
       "        vertical-align: middle;\n",
       "    }\n",
       "\n",
       "    .dataframe tbody tr th {\n",
       "        vertical-align: top;\n",
       "    }\n",
       "\n",
       "    .dataframe thead th {\n",
       "        text-align: right;\n",
       "    }\n",
       "</style>\n",
       "<table border=\"1\" class=\"dataframe\">\n",
       "  <thead>\n",
       "    <tr style=\"text-align: right;\">\n",
       "      <th></th>\n",
       "      <th>Pontos</th>\n",
       "      <th>Vitorias</th>\n",
       "      <th>Saldo_Gols</th>\n",
       "    </tr>\n",
       "    <tr>\n",
       "      <th>Times</th>\n",
       "      <th></th>\n",
       "      <th></th>\n",
       "      <th></th>\n",
       "    </tr>\n",
       "  </thead>\n",
       "  <tbody>\n",
       "    <tr>\n",
       "      <th>Flamengo</th>\n",
       "      <td>23</td>\n",
       "      <td>7</td>\n",
       "      <td>12</td>\n",
       "    </tr>\n",
       "    <tr>\n",
       "      <th>São Paulo</th>\n",
       "      <td>19</td>\n",
       "      <td>6</td>\n",
       "      <td>1</td>\n",
       "    </tr>\n",
       "    <tr>\n",
       "      <th>Palmeiras</th>\n",
       "      <td>18</td>\n",
       "      <td>5</td>\n",
       "      <td>6</td>\n",
       "    </tr>\n",
       "    <tr>\n",
       "      <th>Santos</th>\n",
       "      <td>15</td>\n",
       "      <td>4</td>\n",
       "      <td>-2</td>\n",
       "    </tr>\n",
       "    <tr>\n",
       "      <th>Corinthians</th>\n",
       "      <td>11</td>\n",
       "      <td>3</td>\n",
       "      <td>-10</td>\n",
       "    </tr>\n",
       "  </tbody>\n",
       "</table>\n",
       "</div>"
      ],
      "text/plain": [
       "             Pontos  Vitorias  Saldo_Gols\n",
       "Times                                    \n",
       "Flamengo         23         7          12\n",
       "São Paulo        19         6           1\n",
       "Palmeiras        18         5           6\n",
       "Santos           15         4          -2\n",
       "Corinthians      11         3         -10"
      ]
     },
     "execution_count": 16,
     "metadata": {},
     "output_type": "execute_result"
    }
   ],
   "source": [
    "# 1 - Analise desempenho por time\n",
    "desempenho_info = df[['Times', 'Pontos', 'Vitorias', 'Saldo_Gols']].set_index('Times')\n",
    "desempenho_info"
   ]
  },
  {
   "cell_type": "code",
   "execution_count": 19,
   "metadata": {},
   "outputs": [
    {
     "data": {
      "application/vnd.microsoft.datawrangler.viewer.v0+json": {
       "columns": [
        {
         "name": "index",
         "rawType": "int64",
         "type": "integer"
        },
        {
         "name": "Times",
         "rawType": "object",
         "type": "string"
        },
        {
         "name": "Partidas_Jogadas",
         "rawType": "int64",
         "type": "integer"
        },
        {
         "name": "Vitorias",
         "rawType": "int64",
         "type": "integer"
        },
        {
         "name": "Empates",
         "rawType": "int64",
         "type": "integer"
        },
        {
         "name": "Derrotas",
         "rawType": "int64",
         "type": "integer"
        },
        {
         "name": "Gols_Pro",
         "rawType": "int64",
         "type": "integer"
        },
        {
         "name": "Gols_Contra",
         "rawType": "int64",
         "type": "integer"
        },
        {
         "name": "Saldo_Gols",
         "rawType": "int64",
         "type": "integer"
        },
        {
         "name": "Pontos",
         "rawType": "int64",
         "type": "integer"
        }
       ],
       "conversionMethod": "pd.DataFrame",
       "ref": "f1731113-4c26-4ca4-b8d0-4c61bd790509",
       "rows": [
        [
         "0",
         "Flamengo",
         "10",
         "7",
         "2",
         "1",
         "22",
         "10",
         "12",
         "23"
        ]
       ],
       "shape": {
        "columns": 9,
        "rows": 1
       }
      },
      "text/html": [
       "<div>\n",
       "<style scoped>\n",
       "    .dataframe tbody tr th:only-of-type {\n",
       "        vertical-align: middle;\n",
       "    }\n",
       "\n",
       "    .dataframe tbody tr th {\n",
       "        vertical-align: top;\n",
       "    }\n",
       "\n",
       "    .dataframe thead th {\n",
       "        text-align: right;\n",
       "    }\n",
       "</style>\n",
       "<table border=\"1\" class=\"dataframe\">\n",
       "  <thead>\n",
       "    <tr style=\"text-align: right;\">\n",
       "      <th></th>\n",
       "      <th>Times</th>\n",
       "      <th>Partidas_Jogadas</th>\n",
       "      <th>Vitorias</th>\n",
       "      <th>Empates</th>\n",
       "      <th>Derrotas</th>\n",
       "      <th>Gols_Pro</th>\n",
       "      <th>Gols_Contra</th>\n",
       "      <th>Saldo_Gols</th>\n",
       "      <th>Pontos</th>\n",
       "    </tr>\n",
       "  </thead>\n",
       "  <tbody>\n",
       "    <tr>\n",
       "      <th>0</th>\n",
       "      <td>Flamengo</td>\n",
       "      <td>10</td>\n",
       "      <td>7</td>\n",
       "      <td>2</td>\n",
       "      <td>1</td>\n",
       "      <td>22</td>\n",
       "      <td>10</td>\n",
       "      <td>12</td>\n",
       "      <td>23</td>\n",
       "    </tr>\n",
       "  </tbody>\n",
       "</table>\n",
       "</div>"
      ],
      "text/plain": [
       "      Times  Partidas_Jogadas  Vitorias  Empates  Derrotas  Gols_Pro  \\\n",
       "0  Flamengo                10         7        2         1        22   \n",
       "\n",
       "   Gols_Contra  Saldo_Gols  Pontos  \n",
       "0           10          12      23  "
      ]
     },
     "execution_count": 19,
     "metadata": {},
     "output_type": "execute_result"
    }
   ],
   "source": [
    "# Time com mais vitórias\n",
    "time_mais_vitorias = df[df['Vitorias']==df['Vitorias'].max()]\n",
    "time_mais_vitorias"
   ]
  },
  {
   "cell_type": "code",
   "execution_count": null,
   "metadata": {},
   "outputs": [
    {
     "data": {
      "application/vnd.microsoft.datawrangler.viewer.v0+json": {
       "columns": [
        {
         "name": "index",
         "rawType": "int64",
         "type": "integer"
        },
        {
         "name": "Times",
         "rawType": "object",
         "type": "string"
        },
        {
         "name": "Partidas_Jogadas",
         "rawType": "int64",
         "type": "integer"
        },
        {
         "name": "Vitorias",
         "rawType": "int64",
         "type": "integer"
        },
        {
         "name": "Empates",
         "rawType": "int64",
         "type": "integer"
        },
        {
         "name": "Derrotas",
         "rawType": "int64",
         "type": "integer"
        },
        {
         "name": "Gols_Pro",
         "rawType": "int64",
         "type": "integer"
        },
        {
         "name": "Gols_Contra",
         "rawType": "int64",
         "type": "integer"
        },
        {
         "name": "Saldo_Gols",
         "rawType": "int64",
         "type": "integer"
        },
        {
         "name": "Pontos",
         "rawType": "int64",
         "type": "integer"
        }
       ],
       "conversionMethod": "pd.DataFrame",
       "ref": "99a111b0-688d-4f4e-bc5a-9b36790f44d5",
       "rows": [
        [
         "4",
         "Corinthians",
         "10",
         "3",
         "2",
         "5",
         "10",
         "20",
         "-10",
         "11"
        ]
       ],
       "shape": {
        "columns": 9,
        "rows": 1
       }
      },
      "text/html": [
       "<div>\n",
       "<style scoped>\n",
       "    .dataframe tbody tr th:only-of-type {\n",
       "        vertical-align: middle;\n",
       "    }\n",
       "\n",
       "    .dataframe tbody tr th {\n",
       "        vertical-align: top;\n",
       "    }\n",
       "\n",
       "    .dataframe thead th {\n",
       "        text-align: right;\n",
       "    }\n",
       "</style>\n",
       "<table border=\"1\" class=\"dataframe\">\n",
       "  <thead>\n",
       "    <tr style=\"text-align: right;\">\n",
       "      <th></th>\n",
       "      <th>Times</th>\n",
       "      <th>Partidas_Jogadas</th>\n",
       "      <th>Vitorias</th>\n",
       "      <th>Empates</th>\n",
       "      <th>Derrotas</th>\n",
       "      <th>Gols_Pro</th>\n",
       "      <th>Gols_Contra</th>\n",
       "      <th>Saldo_Gols</th>\n",
       "      <th>Pontos</th>\n",
       "    </tr>\n",
       "  </thead>\n",
       "  <tbody>\n",
       "    <tr>\n",
       "      <th>4</th>\n",
       "      <td>Corinthians</td>\n",
       "      <td>10</td>\n",
       "      <td>3</td>\n",
       "      <td>2</td>\n",
       "      <td>5</td>\n",
       "      <td>10</td>\n",
       "      <td>20</td>\n",
       "      <td>-10</td>\n",
       "      <td>11</td>\n",
       "    </tr>\n",
       "  </tbody>\n",
       "</table>\n",
       "</div>"
      ],
      "text/plain": [
       "         Times  Partidas_Jogadas  Vitorias  Empates  Derrotas  Gols_Pro  \\\n",
       "4  Corinthians                10         3        2         5        10   \n",
       "\n",
       "   Gols_Contra  Saldo_Gols  Pontos  \n",
       "4           20         -10      11  "
      ]
     },
     "execution_count": 21,
     "metadata": {},
     "output_type": "execute_result"
    }
   ],
   "source": [
    "# Time menos vitórias\n",
    "time_menos_vitorias = df[df['Vitorias']==df['Vitorias'].min()]\n",
    "time_menos_vitorias\n"
   ]
  },
  {
   "cell_type": "code",
   "execution_count": 22,
   "metadata": {},
   "outputs": [
    {
     "data": {
      "text/plain": [
       "Gols_Pro\n",
       "22    1\n",
       "16    1\n",
       "18    1\n",
       "14    1\n",
       "10    1\n",
       "Name: count, dtype: int64"
      ]
     },
     "execution_count": 22,
     "metadata": {},
     "output_type": "execute_result"
    }
   ],
   "source": [
    "# Distribuição de gols pró\n",
    "df['Gols_Pro'].value_counts()"
   ]
  },
  {
   "cell_type": "code",
   "execution_count": 25,
   "metadata": {},
   "outputs": [
    {
     "data": {
      "text/plain": [
       "np.float64(0.9701612604547394)"
      ]
     },
     "execution_count": 25,
     "metadata": {},
     "output_type": "execute_result"
    }
   ],
   "source": [
    "# relação entre gols pró e pontos \n",
    "correlação = df['Gols_Pro'].corr(df['Pontos'])\n",
    "correlação\n"
   ]
  },
  {
   "cell_type": "code",
   "execution_count": 27,
   "metadata": {},
   "outputs": [
    {
     "data": {
      "text/plain": [
       "np.float64(-0.934041094880381)"
      ]
     },
     "execution_count": 27,
     "metadata": {},
     "output_type": "execute_result"
    }
   ],
   "source": [
    "correlação = df['Gols_Contra'].corr(df['Pontos'])\n",
    "correlação"
   ]
  }
 ],
 "metadata": {
  "kernelspec": {
   "display_name": "venv",
   "language": "python",
   "name": "python3"
  },
  "language_info": {
   "codemirror_mode": {
    "name": "ipython",
    "version": 3
   },
   "file_extension": ".py",
   "mimetype": "text/x-python",
   "name": "python",
   "nbconvert_exporter": "python",
   "pygments_lexer": "ipython3",
   "version": "3.12.4"
  }
 },
 "nbformat": 4,
 "nbformat_minor": 2
}

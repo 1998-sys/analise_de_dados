{
 "cells": [
  {
   "cell_type": "markdown",
   "metadata": {
    "vscode": {
     "languageId": "plaintext"
    }
   },
   "source": [
    "# Trabalhando com Arquivos Json"
   ]
  },
  {
   "cell_type": "code",
   "execution_count": 1,
   "metadata": {},
   "outputs": [],
   "source": [
    "import json"
   ]
  },
  {
   "cell_type": "code",
   "execution_count": 2,
   "metadata": {},
   "outputs": [],
   "source": [
    "dados_receitas = {\n",
    "    'receitas': [\n",
    "        {\n",
    "            'titulo': 'Bolo de chocolate',\n",
    "            'tempo_preparo': '45 minutos',\n",
    "            'porcoes': 8,\n",
    "            'ingredientes':[\n",
    "                {'ingrediente': 'Farinha de trigo', 'quantidade': '2 xicaras'},\n",
    "                {'ingrediente': 'Açúcar', 'quantidade':'1 xícara'},\n",
    "                {'ingrediente': 'Ovos', 'Quantidade': '3 xícaras'},\n",
    "                {'ingrediente': 'Leite', 'Quantidade': '1 xícara'},\n",
    "                {'ingrediente': 'Manteiga', 'Quantidade': '1/2 xícaras'}\n",
    "            ]\n",
    "        },\n",
    "        {\n",
    "            'titulo': 'Salada Caesar',\n",
    "            'tempo_preparo': '20 minutos',\n",
    "            'porcoes': 4,\n",
    "            'ingredientes': [\n",
    "                {'ingrediente':'Alface romana', 'quantidade': '1 cabeça'},\n",
    "                {'ingrediente':'Croutons', 'quantidade': '1 xícara'},\n",
    "                {'ingrediente':'Queijo Parmesão', 'quantidade': '1/2 xícara'},\n",
    "                {'ingrediente':'Molho Caesar', 'quantidade': '1/4 xícara'}, \n",
    "            ]\n",
    "        }\n",
    "    ]\n",
    "}"
   ]
  },
  {
   "cell_type": "code",
   "execution_count": 3,
   "metadata": {},
   "outputs": [],
   "source": [
    "with open ('../Dados/receitas.json', 'w', encoding='utf-8') as file:\n",
    "    json.dump(dados_receitas, file, ensure_ascii=False, indent=4)"
   ]
  }
 ],
 "metadata": {
  "kernelspec": {
   "display_name": "venv",
   "language": "python",
   "name": "python3"
  },
  "language_info": {
   "codemirror_mode": {
    "name": "ipython",
    "version": 3
   },
   "file_extension": ".py",
   "mimetype": "text/x-python",
   "name": "python",
   "nbconvert_exporter": "python",
   "pygments_lexer": "ipython3",
   "version": "3.12.4"
  }
 },
 "nbformat": 4,
 "nbformat_minor": 2
}

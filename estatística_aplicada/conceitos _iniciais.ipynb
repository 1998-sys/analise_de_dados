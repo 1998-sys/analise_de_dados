{
 "cells": [
  {
   "cell_type": "markdown",
   "metadata": {},
   "source": [
    "## População\n",
    "\n",
    "É todo um conjunto de dados"
   ]
  },
  {
   "cell_type": "markdown",
   "metadata": {
    "vscode": {
     "languageId": "plaintext"
    }
   },
   "source": [
    "## Amostra\n",
    "\n",
    "É um subconjunto de uma população, onde todos os seus elementos serão examinados para efeito da realização do estudo estatístico desejado\n",
    "\n",
    "Ex.: realizamos inferência na amostra para simular e extrair comportamentos da população.\n",
    "\n",
    "De modo geral é muito custoso e difícil trabalharmos com a população logo em 99% dos casos estaremos analisando e trabalhando com amostras.\n"
   ]
  },
  {
   "cell_type": "markdown",
   "metadata": {},
   "source": [
    "## Observação\n",
    "\n",
    "é uma ocorr~encia de um item de dados específico que é gravada spnre uma unidade de dados (registro ou linhas)"
   ]
  },
  {
   "cell_type": "markdown",
   "metadata": {},
   "source": [
    "## Variável\n",
    "\n",
    "É a característica de interesse que é medida em cada elemento da amostra ou população (colunas)\n"
   ]
  },
  {
   "cell_type": "markdown",
   "metadata": {
    "vscode": {
     "languageId": "plaintext"
    }
   },
   "source": [
    "## Variáveis: \n",
    "\n",
    "### Qualitativas: variável categórica podendo ser nominal (nomeia/categoriza) ou ordinal (dá sentido de ordem)\n",
    "\n",
    "\n",
    "### Quantitativa: é numérica podendo ser contínua valor com ponto flutuante ou discreta: valores inteiros"
   ]
  },
  {
   "cell_type": "markdown",
   "metadata": {
    "vscode": {
     "languageId": "plaintext"
    }
   },
   "source": [
    "## Perspectivas de análises:\n",
    "### Análises relacionadas com o passado:\n",
    "- Descritiva: O que aconteceu ?\n",
    "- Diagnóstica: Por que isso aconteceu ?\n",
    "obs.: aqui temos o BI tradicional\n",
    "\n",
    "### Análises relacionadas com o futuro\n",
    "- Preditiva: O que acontecerá ?\n",
    "- Prescritiva: O que dever ser feito ?\n",
    "obs: aqui entra a ciência de dados por meio de seus algoritmos "
   ]
  },
  {
   "cell_type": "markdown",
   "metadata": {
    "vscode": {
     "languageId": "plaintext"
    }
   },
   "source": [
    "## Compreendendo os gráficos"
   ]
  },
  {
   "cell_type": "markdown",
   "metadata": {},
   "source": [
    "### Histograma:\n",
    " - É usado para variáveis numéricas, mostrando a distribuição dos dados em intervalos\n",
    " - Ele ajuda a visualizar a frequência com que os valores ocorrem dentro de faixas específicas"
   ]
  },
  {
   "cell_type": "markdown",
   "metadata": {},
   "source": [
    "### Gráfico de Barras\n",
    "\n",
    "Aplicado a variáveis categóricas, exibindo a contagem ou frequência de cada categoria"
   ]
  },
  {
   "cell_type": "markdown",
   "metadata": {
    "vscode": {
     "languageId": "plaintext"
    }
   },
   "source": [
    "### Gráfico de Dispersão\n",
    "\n",
    "- Mostra a relação entre duas variáveis numéricas, ajudando a identificar padrões ou tendências"
   ]
  },
  {
   "cell_type": "markdown",
   "metadata": {
    "vscode": {
     "languageId": "plaintext"
    }
   },
   "source": [
    "### Box Plot\n",
    "\n",
    "- Adequado para variáveis numéricas ou categóricas ordinais, revelando a distribuição e valores atípicos."
   ]
  },
  {
   "cell_type": "markdown",
   "metadata": {},
   "source": [
    "### Gráfico de linhas\n",
    "- Utilizado para variáveis numéricas ao longo do tempo ou em uma sequência, destacando tendências temporais"
   ]
  }
 ],
 "metadata": {
  "language_info": {
   "name": "python"
  }
 },
 "nbformat": 4,
 "nbformat_minor": 2
}
